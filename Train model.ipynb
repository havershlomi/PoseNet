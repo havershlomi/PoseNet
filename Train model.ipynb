{
 "cells": [
  {
   "cell_type": "code",
   "execution_count": 341,
   "metadata": {},
   "outputs": [
    {
     "ename": "ModuleNotFoundError",
     "evalue": "No module named 'imutils'",
     "output_type": "error",
     "traceback": [
      "\u001b[0;31m---------------------------------------------------------------------------\u001b[0m",
      "\u001b[0;31mModuleNotFoundError\u001b[0m                       Traceback (most recent call last)",
      "\u001b[0;32m<ipython-input-341-4565128a973f>\u001b[0m in \u001b[0;36m<module>\u001b[0;34m\u001b[0m\n\u001b[1;32m     11\u001b[0m \u001b[0;32mimport\u001b[0m \u001b[0mlocale\u001b[0m\u001b[0;34m\u001b[0m\u001b[0;34m\u001b[0m\u001b[0m\n\u001b[1;32m     12\u001b[0m \u001b[0;32mimport\u001b[0m \u001b[0mmath\u001b[0m\u001b[0;34m\u001b[0m\u001b[0;34m\u001b[0m\u001b[0m\n\u001b[0;32m---> 13\u001b[0;31m \u001b[0;32mfrom\u001b[0m \u001b[0mimutils\u001b[0m \u001b[0;32mimport\u001b[0m \u001b[0mface_utils\u001b[0m\u001b[0;34m\u001b[0m\u001b[0;34m\u001b[0m\u001b[0m\n\u001b[0m",
      "\u001b[0;31mModuleNotFoundError\u001b[0m: No module named 'imutils'"
     ]
    }
   ],
   "source": [
    "%matplotlib inline\n",
    "from matplotlib import pyplot as plt\n",
    "import tensorflow as tf\n",
    "from tensorflow import keras\n",
    "import pandas as pd\n",
    "from sklearn.model_selection import train_test_split\n",
    "import numpy as np\n",
    "import cv2\n",
    "import os\n",
    "import argparse\n",
    "import locale\n",
    "import math\n",
    "from imutils import face_utils\n"
   ]
  },
  {
   "cell_type": "code",
   "execution_count": 3,
   "metadata": {},
   "outputs": [],
   "source": [
    "from tensorflow.python.keras.models import Sequential\n",
    "from tensorflow.python.keras.layers.normalization import BatchNormalization\n",
    "from tensorflow.python.keras.layers.convolutional import Conv2D\n",
    "from tensorflow.python.keras.layers.convolutional import MaxPooling2D\n",
    "from tensorflow.python.keras.layers.core import Activation\n",
    "from tensorflow.python.keras.layers.core import Dropout\n",
    "from tensorflow.python.keras.layers.core import Dense\n",
    "from tensorflow.python.keras.layers import Flatten\n",
    "from tensorflow.python.keras.layers import Input\n",
    "from tensorflow.python.keras.models import Model"
   ]
  },
  {
   "cell_type": "code",
   "execution_count": 4,
   "metadata": {},
   "outputs": [],
   "source": [
    "def show_image(img):\n",
    "    plt.axis(\"off\")\n",
    "    img = cv2.cvtColor(img, cv2.COLOR_RGB2BGR)\n",
    "    plt.imshow(img)\n",
    "    plt.show()"
   ]
  },
  {
   "cell_type": "code",
   "execution_count": 8,
   "metadata": {},
   "outputs": [
    {
     "name": "stdout",
     "output_type": "stream",
     "text": [
      "WARNING:tensorflow:From /opt/conda/lib/python3.6/site-packages/tensorflow/python/ops/resource_variable_ops.py:435: colocate_with (from tensorflow.python.framework.ops) is deprecated and will be removed in a future version.\n",
      "Instructions for updating:\n",
      "Colocations handled automatically by placer.\n"
     ]
    }
   ],
   "source": [
    "\n",
    "#create model\n",
    "model = Sequential()\n",
    "#add model layers\n",
    "model.add(Conv2D(64, kernel_size=3, activation='relu', input_shape=(128,128,1)))\n",
    "model.add(Conv2D(32, kernel_size=3, activation='relu'))\n",
    "model.add(Flatten())\n",
    "model.add(Dense(10, activation='softmax'))"
   ]
  },
  {
   "cell_type": "code",
   "execution_count": 9,
   "metadata": {},
   "outputs": [],
   "source": [
    "\n",
    "#compile model using accuracy to measure model performance\n",
    "model.compile(optimizer='adam', loss='categorical_crossentropy', metrics=['accuracy'])"
   ]
  },
  {
   "cell_type": "code",
   "execution_count": null,
   "metadata": {},
   "outputs": [],
   "source": []
  },
  {
   "cell_type": "code",
   "execution_count": null,
   "metadata": {},
   "outputs": [],
   "source": []
  },
  {
   "cell_type": "code",
   "execution_count": 258,
   "metadata": {},
   "outputs": [],
   "source": [
    "def create_cnn(width, height, depth, filters=(16, 32, 64), regress=False):\n",
    "    # initialize the input shape and channel dimension, assuming\n",
    "    # TensorFlow/channels-last ordering\n",
    "    inputShape = (height, width, depth)\n",
    "    chanDim = -1\n",
    "    # define the model input\n",
    "    inputs = Input(shape=inputShape)\n",
    "\n",
    "    # loop over the number of filters\n",
    "    for (i, f) in enumerate(filters):\n",
    "        # if this is the first CONV layer then set the input\n",
    "        # appropriately\n",
    "        if i == 0:\n",
    "            x = inputs\n",
    "\n",
    "        # CONV => RELU => BN => POOL\n",
    "        x = Conv2D(f, (3, 3), padding=\"same\")(x)\n",
    "        x = Activation(\"relu\")(x)\n",
    "        x = BatchNormalization(axis=chanDim)(x)\n",
    "        x = MaxPooling2D(pool_size=(2, 2))(x)\n",
    "        # flatten the volume, then FC => RELU => BN => DROPOUT\n",
    "    x = Flatten()(x)\n",
    "    x = Dense(16)(x)\n",
    "    x = Activation(\"relu\")(x)\n",
    "    x = BatchNormalization(axis=chanDim)(x)\n",
    "    x = Dropout(0.5)(x)\n",
    "\n",
    "    # apply another FC layer, this one to match the number of nodes\n",
    "    # coming out of the MLP\n",
    "    x = Dense(4)(x)\n",
    "    x = Activation(\"relu\")(x)\n",
    "\n",
    "    # check to see if the regression node should be added\n",
    "    if regress:\n",
    "        x = Dense(3, activation=\"linear\")(x)\n",
    "\n",
    "    # construct the CNN\n",
    "    model = Model(inputs, x)\n",
    "\n",
    "    # return the CNN\n",
    "    return model"
   ]
  },
  {
   "cell_type": "code",
   "execution_count": 93,
   "metadata": {},
   "outputs": [
    {
     "ename": "TypeError",
     "evalue": "create_cnn() missing 3 required positional arguments: 'width', 'height', and 'depth'",
     "output_type": "error",
     "traceback": [
      "\u001b[0;31m---------------------------------------------------------------------------\u001b[0m",
      "\u001b[0;31mTypeError\u001b[0m                                 Traceback (most recent call last)",
      "\u001b[0;32m<ipython-input-93-e14f309184f6>\u001b[0m in \u001b[0;36m<module>\u001b[0;34m\u001b[0m\n\u001b[0;32m----> 1\u001b[0;31m \u001b[0mmodel_1\u001b[0m \u001b[0;34m=\u001b[0m \u001b[0mcreate_cnn\u001b[0m\u001b[0;34m(\u001b[0m\u001b[0;34m)\u001b[0m\u001b[0;34m\u001b[0m\u001b[0;34m\u001b[0m\u001b[0m\n\u001b[0m",
      "\u001b[0;31mTypeError\u001b[0m: create_cnn() missing 3 required positional arguments: 'width', 'height', and 'depth'"
     ]
    }
   ],
   "source": [
    "model_1 = create_cnn()"
   ]
  },
  {
   "cell_type": "markdown",
   "metadata": {},
   "source": [
    "## Load dataset"
   ]
  },
  {
   "cell_type": "code",
   "execution_count": 6,
   "metadata": {},
   "outputs": [],
   "source": [
    "def to_vec(df):\n",
    "    image_paths = []\n",
    "    labels = []\n",
    "    for i, row in df.iterrows():\n",
    "        image_paths.append(row['image_path'])\n",
    "        labels.append([row[\"rx\"],row[\"ry\"],row[\"rz\"]])\n",
    "#         data.append([row['image_path'],row[\"rx\"]])\n",
    "#     print([image_paths, labels])\n",
    "#     df = pd.DataFrame(list(zip([image_paths, labels])), columns = ['image_path', \"label\"]) \n",
    "\n",
    "    return [image_paths, labels]"
   ]
  },
  {
   "cell_type": "code",
   "execution_count": 7,
   "metadata": {},
   "outputs": [],
   "source": [
    "dataset = pd.read_csv(\"/mnt/notebooks/Project - Pose/PoseNet/train/t3/training_set.pkl\", index_col=0)"
   ]
  },
  {
   "cell_type": "code",
   "execution_count": 8,
   "metadata": {},
   "outputs": [
    {
     "data": {
      "text/html": [
       "<div>\n",
       "<style scoped>\n",
       "    .dataframe tbody tr th:only-of-type {\n",
       "        vertical-align: middle;\n",
       "    }\n",
       "\n",
       "    .dataframe tbody tr th {\n",
       "        vertical-align: top;\n",
       "    }\n",
       "\n",
       "    .dataframe thead th {\n",
       "        text-align: right;\n",
       "    }\n",
       "</style>\n",
       "<table border=\"1\" class=\"dataframe\">\n",
       "  <thead>\n",
       "    <tr style=\"text-align: right;\">\n",
       "      <th></th>\n",
       "      <th>image_path</th>\n",
       "      <th>rx</th>\n",
       "      <th>ry</th>\n",
       "      <th>rz</th>\n",
       "      <th>tx</th>\n",
       "      <th>ty</th>\n",
       "      <th>tz</th>\n",
       "    </tr>\n",
       "  </thead>\n",
       "  <tbody>\n",
       "    <tr>\n",
       "      <th>0</th>\n",
       "      <td>/mnt/notebooks/Project - Pose/PoseNet/train/t3...</td>\n",
       "      <td>0.149999</td>\n",
       "      <td>0.032741</td>\n",
       "      <td>-0.004810</td>\n",
       "      <td>-97.379855</td>\n",
       "      <td>-76.632717</td>\n",
       "      <td>5796.087256</td>\n",
       "    </tr>\n",
       "    <tr>\n",
       "      <th>1</th>\n",
       "      <td>/mnt/notebooks/Project - Pose/PoseNet/train/t3...</td>\n",
       "      <td>0.151979</td>\n",
       "      <td>0.028118</td>\n",
       "      <td>-0.083070</td>\n",
       "      <td>-83.581238</td>\n",
       "      <td>-64.393175</td>\n",
       "      <td>5062.087588</td>\n",
       "    </tr>\n",
       "    <tr>\n",
       "      <th>2</th>\n",
       "      <td>/mnt/notebooks/Project - Pose/PoseNet/train/t3...</td>\n",
       "      <td>0.150890</td>\n",
       "      <td>0.029580</td>\n",
       "      <td>-0.057791</td>\n",
       "      <td>-78.612181</td>\n",
       "      <td>-58.901688</td>\n",
       "      <td>4733.616233</td>\n",
       "    </tr>\n",
       "    <tr>\n",
       "      <th>3</th>\n",
       "      <td>/mnt/notebooks/Project - Pose/PoseNet/train/t3...</td>\n",
       "      <td>0.160499</td>\n",
       "      <td>0.010928</td>\n",
       "      <td>-0.371373</td>\n",
       "      <td>-91.505845</td>\n",
       "      <td>-79.022972</td>\n",
       "      <td>5876.522082</td>\n",
       "    </tr>\n",
       "    <tr>\n",
       "      <th>4</th>\n",
       "      <td>/mnt/notebooks/Project - Pose/PoseNet/train/t3...</td>\n",
       "      <td>0.151126</td>\n",
       "      <td>0.031624</td>\n",
       "      <td>-0.024558</td>\n",
       "      <td>-111.413824</td>\n",
       "      <td>-91.055609</td>\n",
       "      <td>6661.815756</td>\n",
       "    </tr>\n",
       "    <tr>\n",
       "      <th>...</th>\n",
       "      <td>...</td>\n",
       "      <td>...</td>\n",
       "      <td>...</td>\n",
       "      <td>...</td>\n",
       "      <td>...</td>\n",
       "      <td>...</td>\n",
       "      <td>...</td>\n",
       "    </tr>\n",
       "    <tr>\n",
       "      <th>149995</th>\n",
       "      <td>/mnt/notebooks/Project - Pose/PoseNet/train/t3...</td>\n",
       "      <td>0.101973</td>\n",
       "      <td>-0.037596</td>\n",
       "      <td>-0.003047</td>\n",
       "      <td>-117.960056</td>\n",
       "      <td>-95.364951</td>\n",
       "      <td>7066.409430</td>\n",
       "    </tr>\n",
       "    <tr>\n",
       "      <th>149996</th>\n",
       "      <td>/mnt/notebooks/Project - Pose/PoseNet/train/t3...</td>\n",
       "      <td>0.102070</td>\n",
       "      <td>-0.035291</td>\n",
       "      <td>0.063563</td>\n",
       "      <td>-119.302908</td>\n",
       "      <td>-95.279037</td>\n",
       "      <td>7057.523388</td>\n",
       "    </tr>\n",
       "    <tr>\n",
       "      <th>149997</th>\n",
       "      <td>/mnt/notebooks/Project - Pose/PoseNet/train/t3...</td>\n",
       "      <td>0.099335</td>\n",
       "      <td>-0.034353</td>\n",
       "      <td>0.094532</td>\n",
       "      <td>-78.039788</td>\n",
       "      <td>-53.348556</td>\n",
       "      <td>4540.251013</td>\n",
       "    </tr>\n",
       "    <tr>\n",
       "      <th>149998</th>\n",
       "      <td>/mnt/notebooks/Project - Pose/PoseNet/train/t3...</td>\n",
       "      <td>0.099386</td>\n",
       "      <td>-0.046591</td>\n",
       "      <td>-0.276257</td>\n",
       "      <td>-86.400386</td>\n",
       "      <td>-70.625525</td>\n",
       "      <td>5536.354176</td>\n",
       "    </tr>\n",
       "    <tr>\n",
       "      <th>149999</th>\n",
       "      <td>/mnt/notebooks/Project - Pose/PoseNet/train/t3...</td>\n",
       "      <td>0.100678</td>\n",
       "      <td>-0.039613</td>\n",
       "      <td>-0.062777</td>\n",
       "      <td>-94.651998</td>\n",
       "      <td>-73.409706</td>\n",
       "      <td>5748.325132</td>\n",
       "    </tr>\n",
       "  </tbody>\n",
       "</table>\n",
       "<p>150000 rows × 7 columns</p>\n",
       "</div>"
      ],
      "text/plain": [
       "                                               image_path        rx        ry  \\\n",
       "0       /mnt/notebooks/Project - Pose/PoseNet/train/t3...  0.149999  0.032741   \n",
       "1       /mnt/notebooks/Project - Pose/PoseNet/train/t3...  0.151979  0.028118   \n",
       "2       /mnt/notebooks/Project - Pose/PoseNet/train/t3...  0.150890  0.029580   \n",
       "3       /mnt/notebooks/Project - Pose/PoseNet/train/t3...  0.160499  0.010928   \n",
       "4       /mnt/notebooks/Project - Pose/PoseNet/train/t3...  0.151126  0.031624   \n",
       "...                                                   ...       ...       ...   \n",
       "149995  /mnt/notebooks/Project - Pose/PoseNet/train/t3...  0.101973 -0.037596   \n",
       "149996  /mnt/notebooks/Project - Pose/PoseNet/train/t3...  0.102070 -0.035291   \n",
       "149997  /mnt/notebooks/Project - Pose/PoseNet/train/t3...  0.099335 -0.034353   \n",
       "149998  /mnt/notebooks/Project - Pose/PoseNet/train/t3...  0.099386 -0.046591   \n",
       "149999  /mnt/notebooks/Project - Pose/PoseNet/train/t3...  0.100678 -0.039613   \n",
       "\n",
       "              rz          tx         ty           tz  \n",
       "0      -0.004810  -97.379855 -76.632717  5796.087256  \n",
       "1      -0.083070  -83.581238 -64.393175  5062.087588  \n",
       "2      -0.057791  -78.612181 -58.901688  4733.616233  \n",
       "3      -0.371373  -91.505845 -79.022972  5876.522082  \n",
       "4      -0.024558 -111.413824 -91.055609  6661.815756  \n",
       "...          ...         ...        ...          ...  \n",
       "149995 -0.003047 -117.960056 -95.364951  7066.409430  \n",
       "149996  0.063563 -119.302908 -95.279037  7057.523388  \n",
       "149997  0.094532  -78.039788 -53.348556  4540.251013  \n",
       "149998 -0.276257  -86.400386 -70.625525  5536.354176  \n",
       "149999 -0.062777  -94.651998 -73.409706  5748.325132  \n",
       "\n",
       "[150000 rows x 7 columns]"
      ]
     },
     "execution_count": 8,
     "metadata": {},
     "output_type": "execute_result"
    }
   ],
   "source": [
    "dataset"
   ]
  },
  {
   "cell_type": "code",
   "execution_count": 9,
   "metadata": {},
   "outputs": [],
   "source": [
    "dataset = dataset.dropna()"
   ]
  },
  {
   "cell_type": "code",
   "execution_count": 128,
   "metadata": {},
   "outputs": [],
   "source": [
    "pd_dataset = to_vec(dataset[:20000])"
   ]
  },
  {
   "cell_type": "code",
   "execution_count": 129,
   "metadata": {},
   "outputs": [],
   "source": [
    "image_paths, lables = pd_dataset[0],pd_dataset[1]"
   ]
  },
  {
   "cell_type": "code",
   "execution_count": 130,
   "metadata": {},
   "outputs": [
    {
     "data": {
      "text/plain": [
       "(20000, 3)"
      ]
     },
     "execution_count": 130,
     "metadata": {},
     "output_type": "execute_result"
    }
   ],
   "source": [
    "np.array(lables).shape"
   ]
  },
  {
   "cell_type": "code",
   "execution_count": 314,
   "metadata": {},
   "outputs": [],
   "source": [
    "def load_images(paths):\n",
    "    images = []\n",
    "    for path in paths:\n",
    "        image = cv2.imread(path)\n",
    "        image = cv2.cvtColor(image, cv2.COLOR_BGR2RGB)\n",
    "        if np.array(image).sum() == 1:\n",
    "            print(path)\n",
    "        new_image = tf.keras.applications.vgg16.preprocess_input(image)\n",
    "\n",
    "        images.append(new_image)\n",
    "        \n",
    "    return np.array(images)"
   ]
  },
  {
   "cell_type": "code",
   "execution_count": 132,
   "metadata": {},
   "outputs": [],
   "source": [
    "images = load_images(image_paths)"
   ]
  },
  {
   "cell_type": "code",
   "execution_count": 133,
   "metadata": {},
   "outputs": [],
   "source": [
    "split = train_test_split(images, lables, test_size=0.25, random_state=42)\n",
    "(trainImagesX,testImagesX, trainY, testY ) = split"
   ]
  },
  {
   "cell_type": "code",
   "execution_count": null,
   "metadata": {},
   "outputs": [],
   "source": []
  },
  {
   "cell_type": "code",
   "execution_count": 134,
   "metadata": {},
   "outputs": [
    {
     "name": "stderr",
     "output_type": "stream",
     "text": [
      "Clipping input data to the valid range for imshow with RGB data ([0..1] for floats or [0..255] for integers).\n"
     ]
    },
    {
     "data": {
      "image/png": "[encoded data removed]",
      "text/plain": [
       "<Figure size 432x288 with 1 Axes>"
      ]
     },
     "metadata": {
      "needs_background": "light"
     },
     "output_type": "display_data"
    },
    {
     "name": "stdout",
     "output_type": "stream",
     "text": [
      "[0.16751393348384494, -0.0388423195615168, -0.0817387469715669]\n"
     ]
    }
   ],
   "source": [
    "selected_img = 30\n",
    "show_image(testImagesX[selected_img])\n",
    "print(testY[selected_img])"
   ]
  },
  {
   "cell_type": "code",
   "execution_count": 472,
   "metadata": {},
   "outputs": [
    {
     "ename": "MemoryError",
     "evalue": "Unable to allocate array with shape (110508, 128, 128, 3) and data type float64",
     "output_type": "error",
     "traceback": [
      "\u001b[0;31m---------------------------------------------------------------------------\u001b[0m",
      "\u001b[0;31mMemoryError\u001b[0m                               Traceback (most recent call last)",
      "\u001b[0;32m<ipython-input-472-a43cc0b50cab>\u001b[0m in \u001b[0;36m<module>\u001b[0;34m\u001b[0m\n\u001b[0;32m----> 1\u001b[0;31m \u001b[0mtrainImagesX\u001b[0m \u001b[0;34m=\u001b[0m \u001b[0mtrainImagesX\u001b[0m \u001b[0;34m/\u001b[0m \u001b[0;36m255.0\u001b[0m\u001b[0;34m\u001b[0m\u001b[0;34m\u001b[0m\u001b[0m\n\u001b[0m\u001b[1;32m      2\u001b[0m \u001b[0mtestImagesX\u001b[0m \u001b[0;34m=\u001b[0m \u001b[0mtestImagesX\u001b[0m \u001b[0;34m/\u001b[0m \u001b[0;36m255.0\u001b[0m\u001b[0;34m\u001b[0m\u001b[0;34m\u001b[0m\u001b[0m\n",
      "\u001b[0;31mMemoryError\u001b[0m: Unable to allocate array with shape (110508, 128, 128, 3) and data type float64"
     ]
    }
   ],
   "source": [
    "trainImagesX = trainImagesX / 255.0\n",
    "testImagesX = testImagesX / 255.0"
   ]
  },
  {
   "cell_type": "code",
   "execution_count": null,
   "metadata": {},
   "outputs": [],
   "source": [
    "trainImagesX.shape"
   ]
  },
  {
   "cell_type": "code",
   "execution_count": null,
   "metadata": {},
   "outputs": [],
   "source": [
    "np.array(testY).shape"
   ]
  },
  {
   "cell_type": "code",
   "execution_count": 242,
   "metadata": {
    "scrolled": true
   },
   "outputs": [
    {
     "name": "stdout",
     "output_type": "stream",
     "text": [
      "_________________________________________________________________\n",
      "Layer (type)                 Output Shape              Param #   \n",
      "=================================================================\n",
      "input_17 (InputLayer)        (None, 128, 128, 3)       0         \n",
      "_________________________________________________________________\n",
      "conv2d_3 (Conv2D)            (None, 128, 128, 16)      448       \n",
      "_________________________________________________________________\n",
      "activation_5 (Activation)    (None, 128, 128, 16)      0         \n",
      "_________________________________________________________________\n",
      "batch_normalization_v1_4 (Ba (None, 128, 128, 16)      64        \n",
      "_________________________________________________________________\n",
      "max_pooling2d_3 (MaxPooling2 (None, 64, 64, 16)        0         \n",
      "_________________________________________________________________\n",
      "conv2d_4 (Conv2D)            (None, 64, 64, 32)        4640      \n",
      "_________________________________________________________________\n",
      "activation_6 (Activation)    (None, 64, 64, 32)        0         \n",
      "_________________________________________________________________\n",
      "batch_normalization_v1_5 (Ba (None, 64, 64, 32)        128       \n",
      "_________________________________________________________________\n",
      "max_pooling2d_4 (MaxPooling2 (None, 32, 32, 32)        0         \n",
      "_________________________________________________________________\n",
      "conv2d_5 (Conv2D)            (None, 32, 32, 64)        18496     \n",
      "_________________________________________________________________\n",
      "activation_7 (Activation)    (None, 32, 32, 64)        0         \n",
      "_________________________________________________________________\n",
      "batch_normalization_v1_6 (Ba (None, 32, 32, 64)        256       \n",
      "_________________________________________________________________\n",
      "max_pooling2d_5 (MaxPooling2 (None, 16, 16, 64)        0         \n",
      "_________________________________________________________________\n",
      "flatten_1 (Flatten)          (None, 16384)             0         \n",
      "_________________________________________________________________\n",
      "dense_26 (Dense)             (None, 16)                262160    \n",
      "_________________________________________________________________\n",
      "activation_8 (Activation)    (None, 16)                0         \n",
      "_________________________________________________________________\n",
      "batch_normalization_v1_7 (Ba (None, 16)                64        \n",
      "_________________________________________________________________\n",
      "dropout_10 (Dropout)         (None, 16)                0         \n",
      "_________________________________________________________________\n",
      "dense_27 (Dense)             (None, 4)                 68        \n",
      "_________________________________________________________________\n",
      "activation_9 (Activation)    (None, 4)                 0         \n",
      "_________________________________________________________________\n",
      "dense_28 (Dense)             (None, 3)                 15        \n",
      "=================================================================\n",
      "Total params: 286,339\n",
      "Trainable params: 286,083\n",
      "Non-trainable params: 256\n",
      "_________________________________________________________________\n"
     ]
    }
   ],
   "source": [
    "model = create_cnn(128,128,3, regress=True)\n",
    "# opt = Adam(lr=1e-3, decay=1e-3 / 200)\n",
    "model.compile(optimizer='rmsprop', loss='mse')\n",
    "model.summary()\n",
    "\n",
    "# model.compile(loss=\"mean_absolute_percentage_error\", optimizer=opt)"
   ]
  },
  {
   "cell_type": "code",
   "execution_count": 145,
   "metadata": {
    "scrolled": true
   },
   "outputs": [],
   "source": [
    "def compile_vgg16(lr=0.001):\n",
    "    model_vgg = tf.keras.applications.vgg16.VGG16(include_top=False, weights='imagenet', input_tensor=None, input_shape=(128,128,3))\n",
    "    x = model_vgg.output\n",
    "    x = tf.keras.layers.GlobalAveragePooling2D()(x)\n",
    "    x = tf.keras.layers.Dense(512, activation='relu')(x)\n",
    "    x = tf.keras.layers.Dropout(0.20)(x)\n",
    "    predictions = tf.keras.layers.Dense(3, activation=\"linear\")(x)\n",
    "    model_vgg = tf.keras.Model(inputs=model_vgg.input, outputs=predictions)\n",
    "\n",
    "\n",
    "    # self.model = tf.keras.Model(inputs=base_model.input, outputs=predictions)\n",
    "    for i, layer in enumerate(model_vgg.layers):\n",
    "        if i < 15:\n",
    "            layer.trainable = False\n",
    "        else:\n",
    "            layer.trainable = True\n",
    "\n",
    "    model_vgg.compile(loss='mse', optimizer=tf.keras.optimizers.RMSprop(lr=lr))\n",
    "    \n",
    "    print(model_vgg.summary())\n",
    "    return model_vgg"
   ]
  },
  {
   "cell_type": "code",
   "execution_count": 15,
   "metadata": {},
   "outputs": [],
   "source": [
    "def train_model(model, train_x, test_x, train_y, test_y, epochs, batch_size=32):\n",
    "    model.fit(train_x, np.array(train_y), batch_size=32, epochs=epochs, verbose=1,shuffle=True)\n",
    "    print(evaluate(model, test_x, test_y))"
   ]
  },
  {
   "cell_type": "markdown",
   "metadata": {},
   "source": [
    "1. clean data from empty files\n",
    "2. try train model\n",
    "3. train vgg if no result try inception\n",
    "4. my net\n"
   ]
  },
  {
   "cell_type": "code",
   "execution_count": 516,
   "metadata": {
    "scrolled": true
   },
   "outputs": [
    {
     "name": "stdout",
     "output_type": "stream",
     "text": [
      "_________________________________________________________________\n",
      "Layer (type)                 Output Shape              Param #   \n",
      "=================================================================\n",
      "input_35 (InputLayer)        (None, 128, 128, 3)       0         \n",
      "_________________________________________________________________\n",
      "block1_conv1 (Conv2D)        (None, 128, 128, 64)      1792      \n",
      "_________________________________________________________________\n",
      "block1_conv2 (Conv2D)        (None, 128, 128, 64)      36928     \n",
      "_________________________________________________________________\n",
      "block1_pool (MaxPooling2D)   (None, 64, 64, 64)        0         \n",
      "_________________________________________________________________\n",
      "block2_conv1 (Conv2D)        (None, 64, 64, 128)       73856     \n",
      "_________________________________________________________________\n",
      "block2_conv2 (Conv2D)        (None, 64, 64, 128)       147584    \n",
      "_________________________________________________________________\n",
      "block2_pool (MaxPooling2D)   (None, 32, 32, 128)       0         \n",
      "_________________________________________________________________\n",
      "block3_conv1 (Conv2D)        (None, 32, 32, 256)       295168    \n",
      "_________________________________________________________________\n",
      "block3_conv2 (Conv2D)        (None, 32, 32, 256)       590080    \n",
      "_________________________________________________________________\n",
      "block3_conv3 (Conv2D)        (None, 32, 32, 256)       590080    \n",
      "_________________________________________________________________\n",
      "block3_pool (MaxPooling2D)   (None, 16, 16, 256)       0         \n",
      "_________________________________________________________________\n",
      "block4_conv1 (Conv2D)        (None, 16, 16, 512)       1180160   \n",
      "_________________________________________________________________\n",
      "block4_conv2 (Conv2D)        (None, 16, 16, 512)       2359808   \n",
      "_________________________________________________________________\n",
      "block4_conv3 (Conv2D)        (None, 16, 16, 512)       2359808   \n",
      "_________________________________________________________________\n",
      "block4_pool (MaxPooling2D)   (None, 8, 8, 512)         0         \n",
      "_________________________________________________________________\n",
      "block5_conv1 (Conv2D)        (None, 8, 8, 512)         2359808   \n",
      "_________________________________________________________________\n",
      "block5_conv2 (Conv2D)        (None, 8, 8, 512)         2359808   \n",
      "_________________________________________________________________\n",
      "block5_conv3 (Conv2D)        (None, 8, 8, 512)         2359808   \n",
      "_________________________________________________________________\n",
      "block5_pool (MaxPooling2D)   (None, 4, 4, 512)         0         \n",
      "_________________________________________________________________\n",
      "global_average_pooling2d_30  (None, 512)               0         \n",
      "_________________________________________________________________\n",
      "dense_63 (Dense)             (None, 512)               262656    \n",
      "_________________________________________________________________\n",
      "dropout_28 (Dropout)         (None, 512)               0         \n",
      "_________________________________________________________________\n",
      "dense_64 (Dense)             (None, 3)                 1539      \n",
      "=================================================================\n",
      "Total params: 14,978,883\n",
      "Trainable params: 7,343,619\n",
      "Non-trainable params: 7,635,264\n",
      "_________________________________________________________________\n",
      "None\n"
     ]
    }
   ],
   "source": [
    "model_vgg_220 = compile_vgg16()"
   ]
  },
  {
   "cell_type": "code",
   "execution_count": 494,
   "metadata": {
    "scrolled": true
   },
   "outputs": [
    {
     "name": "stdout",
     "output_type": "stream",
     "text": [
      "Epoch 1/4\n",
      "15000/15000 [==============================] - 24s 2ms/sample - loss: 9388.1733\n",
      "Epoch 2/4\n",
      "15000/15000 [==============================] - 17s 1ms/sample - loss: 51.0835\n",
      "Epoch 3/4\n",
      "15000/15000 [==============================] - 17s 1ms/sample - loss: 0.0957\n",
      "Epoch 4/4\n",
      "15000/15000 [==============================] - 17s 1ms/sample - loss: 0.0955\n",
      "[INFO] predicting pose...\n",
      "The Mean Square Error is:  0.4931247481449057\n",
      "None\n"
     ]
    }
   ],
   "source": [
    "train_model(model_vgg_220,trainImagesX, testImagesX, trainY, testY, epochs=4)"
   ]
  },
  {
   "cell_type": "code",
   "execution_count": 521,
   "metadata": {
    "scrolled": true
   },
   "outputs": [
    {
     "name": "stdout",
     "output_type": "stream",
     "text": [
      "_________________________________________________________________\n",
      "Layer (type)                 Output Shape              Param #   \n",
      "=================================================================\n",
      "input_39 (InputLayer)        (None, 128, 128, 3)       0         \n",
      "_________________________________________________________________\n",
      "block1_conv1 (Conv2D)        (None, 128, 128, 64)      1792      \n",
      "_________________________________________________________________\n",
      "block1_conv2 (Conv2D)        (None, 128, 128, 64)      36928     \n",
      "_________________________________________________________________\n",
      "block1_pool (MaxPooling2D)   (None, 64, 64, 64)        0         \n",
      "_________________________________________________________________\n",
      "block2_conv1 (Conv2D)        (None, 64, 64, 128)       73856     \n",
      "_________________________________________________________________\n",
      "block2_conv2 (Conv2D)        (None, 64, 64, 128)       147584    \n",
      "_________________________________________________________________\n",
      "block2_pool (MaxPooling2D)   (None, 32, 32, 128)       0         \n",
      "_________________________________________________________________\n",
      "block3_conv1 (Conv2D)        (None, 32, 32, 256)       295168    \n",
      "_________________________________________________________________\n",
      "block3_conv2 (Conv2D)        (None, 32, 32, 256)       590080    \n",
      "_________________________________________________________________\n",
      "block3_conv3 (Conv2D)        (None, 32, 32, 256)       590080    \n",
      "_________________________________________________________________\n",
      "block3_pool (MaxPooling2D)   (None, 16, 16, 256)       0         \n",
      "_________________________________________________________________\n",
      "block4_conv1 (Conv2D)        (None, 16, 16, 512)       1180160   \n",
      "_________________________________________________________________\n",
      "block4_conv2 (Conv2D)        (None, 16, 16, 512)       2359808   \n",
      "_________________________________________________________________\n",
      "block4_conv3 (Conv2D)        (None, 16, 16, 512)       2359808   \n",
      "_________________________________________________________________\n",
      "block4_pool (MaxPooling2D)   (None, 8, 8, 512)         0         \n",
      "_________________________________________________________________\n",
      "block5_conv1 (Conv2D)        (None, 8, 8, 512)         2359808   \n",
      "_________________________________________________________________\n",
      "block5_conv2 (Conv2D)        (None, 8, 8, 512)         2359808   \n",
      "_________________________________________________________________\n",
      "block5_conv3 (Conv2D)        (None, 8, 8, 512)         2359808   \n",
      "_________________________________________________________________\n",
      "block5_pool (MaxPooling2D)   (None, 4, 4, 512)         0         \n",
      "_________________________________________________________________\n",
      "global_average_pooling2d_34  (None, 512)               0         \n",
      "_________________________________________________________________\n",
      "dense_71 (Dense)             (None, 512)               262656    \n",
      "_________________________________________________________________\n",
      "dropout_32 (Dropout)         (None, 512)               0         \n",
      "_________________________________________________________________\n",
      "dense_72 (Dense)             (None, 3)                 1539      \n",
      "=================================================================\n",
      "Total params: 14,978,883\n",
      "Trainable params: 7,343,619\n",
      "Non-trainable params: 7,635,264\n",
      "_________________________________________________________________\n",
      "None\n",
      "Epoch 1/8\n",
      "15000/15000 [==============================] - 27s 2ms/sample - loss: 6693736947183700783125531654736576512.0000\n",
      "Epoch 2/8\n",
      "15000/15000 [==============================] - 17s 1ms/sample - loss: 6708807872093252688295316889666584576.0000\n",
      "Epoch 3/8\n",
      "15000/15000 [==============================] - 17s 1ms/sample - loss: 6704124609629344014896946617197264896.0000\n",
      "Epoch 4/8\n",
      "15000/15000 [==============================] - 17s 1ms/sample - loss: 6712133565612397788338803248138813440.0000\n",
      "Epoch 5/8\n",
      "15000/15000 [==============================] - 17s 1ms/sample - loss: 6710777569568497538793656732583198720.0000\n",
      "Epoch 6/8\n",
      "15000/15000 [==============================] - 17s 1ms/sample - loss: 6707363342317312750048517871382822912.0000\n",
      "Epoch 7/8\n",
      "15000/15000 [==============================] - 17s 1ms/sample - loss: 6715347025741919545890319224193155072.0000\n",
      "Epoch 8/8\n",
      "15000/15000 [==============================] - 17s 1ms/sample - loss: 6719335986844998817066481149330587648.0000\n",
      "[INFO] predicting pose...\n",
      "The Mean Square Error is:  6.696874130719767e+36\n",
      "None\n"
     ]
    }
   ],
   "source": [
    "model_vgg_220_1 = compile_vgg16(lr=1)\n",
    "train_model(model_vgg_220_1,trainImagesX, testImagesX, trainY, testY, epochs=8)"
   ]
  },
  {
   "cell_type": "code",
   "execution_count": 519,
   "metadata": {
    "scrolled": true
   },
   "outputs": [
    {
     "name": "stdout",
     "output_type": "stream",
     "text": [
      "_________________________________________________________________\n",
      "Layer (type)                 Output Shape              Param #   \n",
      "=================================================================\n",
      "input_37 (InputLayer)        (None, 128, 128, 3)       0         \n",
      "_________________________________________________________________\n",
      "block1_conv1 (Conv2D)        (None, 128, 128, 64)      1792      \n",
      "_________________________________________________________________\n",
      "block1_conv2 (Conv2D)        (None, 128, 128, 64)      36928     \n",
      "_________________________________________________________________\n",
      "block1_pool (MaxPooling2D)   (None, 64, 64, 64)        0         \n",
      "_________________________________________________________________\n",
      "block2_conv1 (Conv2D)        (None, 64, 64, 128)       73856     \n",
      "_________________________________________________________________\n",
      "block2_conv2 (Conv2D)        (None, 64, 64, 128)       147584    \n",
      "_________________________________________________________________\n",
      "block2_pool (MaxPooling2D)   (None, 32, 32, 128)       0         \n",
      "_________________________________________________________________\n",
      "block3_conv1 (Conv2D)        (None, 32, 32, 256)       295168    \n",
      "_________________________________________________________________\n",
      "block3_conv2 (Conv2D)        (None, 32, 32, 256)       590080    \n",
      "_________________________________________________________________\n",
      "block3_conv3 (Conv2D)        (None, 32, 32, 256)       590080    \n",
      "_________________________________________________________________\n",
      "block3_pool (MaxPooling2D)   (None, 16, 16, 256)       0         \n",
      "_________________________________________________________________\n",
      "block4_conv1 (Conv2D)        (None, 16, 16, 512)       1180160   \n",
      "_________________________________________________________________\n",
      "block4_conv2 (Conv2D)        (None, 16, 16, 512)       2359808   \n",
      "_________________________________________________________________\n",
      "block4_conv3 (Conv2D)        (None, 16, 16, 512)       2359808   \n",
      "_________________________________________________________________\n",
      "block4_pool (MaxPooling2D)   (None, 8, 8, 512)         0         \n",
      "_________________________________________________________________\n",
      "block5_conv1 (Conv2D)        (None, 8, 8, 512)         2359808   \n",
      "_________________________________________________________________\n",
      "block5_conv2 (Conv2D)        (None, 8, 8, 512)         2359808   \n",
      "_________________________________________________________________\n",
      "block5_conv3 (Conv2D)        (None, 8, 8, 512)         2359808   \n",
      "_________________________________________________________________\n",
      "block5_pool (MaxPooling2D)   (None, 4, 4, 512)         0         \n",
      "_________________________________________________________________\n",
      "global_average_pooling2d_32  (None, 512)               0         \n",
      "_________________________________________________________________\n",
      "dense_67 (Dense)             (None, 512)               262656    \n",
      "_________________________________________________________________\n",
      "dropout_30 (Dropout)         (None, 512)               0         \n",
      "_________________________________________________________________\n",
      "dense_68 (Dense)             (None, 3)                 1539      \n",
      "=================================================================\n",
      "Total params: 14,978,883\n",
      "Trainable params: 7,343,619\n",
      "Non-trainable params: 7,635,264\n",
      "_________________________________________________________________\n",
      "None\n",
      "Epoch 1/8\n",
      "15000/15000 [==============================] - 26s 2ms/sample - loss: nan\n",
      "Epoch 2/8\n",
      "15000/15000 [==============================] - 17s 1ms/sample - loss: nan\n",
      "Epoch 3/8\n",
      "15000/15000 [==============================] - 17s 1ms/sample - loss: nan\n",
      "Epoch 4/8\n",
      "15000/15000 [==============================] - 17s 1ms/sample - loss: nan\n",
      "Epoch 5/8\n",
      "15000/15000 [==============================] - 17s 1ms/sample - loss: nan\n",
      "Epoch 6/8\n",
      "15000/15000 [==============================] - 17s 1ms/sample - loss: nan\n",
      "Epoch 7/8\n",
      "15000/15000 [==============================] - 17s 1ms/sample - loss: nan\n",
      "Epoch 8/8\n",
      "15000/15000 [==============================] - 17s 1ms/sample - loss: nan\n",
      "[INFO] predicting pose...\n",
      "The Mean Square Error is:  nan\n",
      "None\n"
     ]
    }
   ],
   "source": [
    "model_vgg_220_1 = compile_vgg16(lr=10)\n",
    "train_model(model_vgg_220_1,trainImagesX, testImagesX, trainY, testY, epochs=8)\n"
   ]
  },
  {
   "cell_type": "code",
   "execution_count": 520,
   "metadata": {
    "scrolled": true
   },
   "outputs": [
    {
     "name": "stdout",
     "output_type": "stream",
     "text": [
      "_________________________________________________________________\n",
      "Layer (type)                 Output Shape              Param #   \n",
      "=================================================================\n",
      "input_38 (InputLayer)        (None, 128, 128, 3)       0         \n",
      "_________________________________________________________________\n",
      "block1_conv1 (Conv2D)        (None, 128, 128, 64)      1792      \n",
      "_________________________________________________________________\n",
      "block1_conv2 (Conv2D)        (None, 128, 128, 64)      36928     \n",
      "_________________________________________________________________\n",
      "block1_pool (MaxPooling2D)   (None, 64, 64, 64)        0         \n",
      "_________________________________________________________________\n",
      "block2_conv1 (Conv2D)        (None, 64, 64, 128)       73856     \n",
      "_________________________________________________________________\n",
      "block2_conv2 (Conv2D)        (None, 64, 64, 128)       147584    \n",
      "_________________________________________________________________\n",
      "block2_pool (MaxPooling2D)   (None, 32, 32, 128)       0         \n",
      "_________________________________________________________________\n",
      "block3_conv1 (Conv2D)        (None, 32, 32, 256)       295168    \n",
      "_________________________________________________________________\n",
      "block3_conv2 (Conv2D)        (None, 32, 32, 256)       590080    \n",
      "_________________________________________________________________\n",
      "block3_conv3 (Conv2D)        (None, 32, 32, 256)       590080    \n",
      "_________________________________________________________________\n",
      "block3_pool (MaxPooling2D)   (None, 16, 16, 256)       0         \n",
      "_________________________________________________________________\n",
      "block4_conv1 (Conv2D)        (None, 16, 16, 512)       1180160   \n",
      "_________________________________________________________________\n",
      "block4_conv2 (Conv2D)        (None, 16, 16, 512)       2359808   \n",
      "_________________________________________________________________\n",
      "block4_conv3 (Conv2D)        (None, 16, 16, 512)       2359808   \n",
      "_________________________________________________________________\n",
      "block4_pool (MaxPooling2D)   (None, 8, 8, 512)         0         \n",
      "_________________________________________________________________\n",
      "block5_conv1 (Conv2D)        (None, 8, 8, 512)         2359808   \n",
      "_________________________________________________________________\n",
      "block5_conv2 (Conv2D)        (None, 8, 8, 512)         2359808   \n",
      "_________________________________________________________________\n",
      "block5_conv3 (Conv2D)        (None, 8, 8, 512)         2359808   \n",
      "_________________________________________________________________\n",
      "block5_pool (MaxPooling2D)   (None, 4, 4, 512)         0         \n",
      "_________________________________________________________________\n",
      "global_average_pooling2d_33  (None, 512)               0         \n",
      "_________________________________________________________________\n",
      "dense_69 (Dense)             (None, 512)               262656    \n",
      "_________________________________________________________________\n",
      "dropout_31 (Dropout)         (None, 512)               0         \n",
      "_________________________________________________________________\n",
      "dense_70 (Dense)             (None, 3)                 1539      \n",
      "=================================================================\n",
      "Total params: 14,978,883\n",
      "Trainable params: 7,343,619\n",
      "Non-trainable params: 7,635,264\n",
      "_________________________________________________________________\n",
      "None\n",
      "Epoch 1/8\n",
      "15000/15000 [==============================] - 28s 2ms/sample - loss: nan\n",
      "Epoch 2/8\n",
      "15000/15000 [==============================] - 17s 1ms/sample - loss: nan\n",
      "Epoch 3/8\n",
      "15000/15000 [==============================] - 17s 1ms/sample - loss: nan\n",
      "Epoch 4/8\n",
      "15000/15000 [==============================] - 17s 1ms/sample - loss: nan\n",
      "Epoch 5/8\n",
      "15000/15000 [==============================] - 17s 1ms/sample - loss: nan\n",
      "Epoch 6/8\n",
      "15000/15000 [==============================] - 17s 1ms/sample - loss: nan\n",
      "Epoch 7/8\n",
      "15000/15000 [==============================] - 17s 1ms/sample - loss: nan\n",
      "Epoch 8/8\n",
      "15000/15000 [==============================] - 17s 1ms/sample - loss: nan\n",
      "[INFO] predicting pose...\n",
      "The Mean Square Error is:  nan\n",
      "None\n"
     ]
    }
   ],
   "source": [
    "model_vgg_220_1 = compile_vgg16(lr=100)\n",
    "train_model(model_vgg_220_1,trainImagesX, testImagesX, trainY, testY, epochs=8)"
   ]
  },
  {
   "cell_type": "code",
   "execution_count": 522,
   "metadata": {
    "scrolled": true
   },
   "outputs": [
    {
     "name": "stdout",
     "output_type": "stream",
     "text": [
      "_________________________________________________________________\n",
      "Layer (type)                 Output Shape              Param #   \n",
      "=================================================================\n",
      "input_40 (InputLayer)        (None, 128, 128, 3)       0         \n",
      "_________________________________________________________________\n",
      "block1_conv1 (Conv2D)        (None, 128, 128, 64)      1792      \n",
      "_________________________________________________________________\n",
      "block1_conv2 (Conv2D)        (None, 128, 128, 64)      36928     \n",
      "_________________________________________________________________\n",
      "block1_pool (MaxPooling2D)   (None, 64, 64, 64)        0         \n",
      "_________________________________________________________________\n",
      "block2_conv1 (Conv2D)        (None, 64, 64, 128)       73856     \n",
      "_________________________________________________________________\n",
      "block2_conv2 (Conv2D)        (None, 64, 64, 128)       147584    \n",
      "_________________________________________________________________\n",
      "block2_pool (MaxPooling2D)   (None, 32, 32, 128)       0         \n",
      "_________________________________________________________________\n",
      "block3_conv1 (Conv2D)        (None, 32, 32, 256)       295168    \n",
      "_________________________________________________________________\n",
      "block3_conv2 (Conv2D)        (None, 32, 32, 256)       590080    \n",
      "_________________________________________________________________\n",
      "block3_conv3 (Conv2D)        (None, 32, 32, 256)       590080    \n",
      "_________________________________________________________________\n",
      "block3_pool (MaxPooling2D)   (None, 16, 16, 256)       0         \n",
      "_________________________________________________________________\n",
      "block4_conv1 (Conv2D)        (None, 16, 16, 512)       1180160   \n",
      "_________________________________________________________________\n",
      "block4_conv2 (Conv2D)        (None, 16, 16, 512)       2359808   \n",
      "_________________________________________________________________\n",
      "block4_conv3 (Conv2D)        (None, 16, 16, 512)       2359808   \n",
      "_________________________________________________________________\n",
      "block4_pool (MaxPooling2D)   (None, 8, 8, 512)         0         \n",
      "_________________________________________________________________\n",
      "block5_conv1 (Conv2D)        (None, 8, 8, 512)         2359808   \n",
      "_________________________________________________________________\n",
      "block5_conv2 (Conv2D)        (None, 8, 8, 512)         2359808   \n",
      "_________________________________________________________________\n",
      "block5_conv3 (Conv2D)        (None, 8, 8, 512)         2359808   \n",
      "_________________________________________________________________\n",
      "block5_pool (MaxPooling2D)   (None, 4, 4, 512)         0         \n",
      "_________________________________________________________________\n",
      "global_average_pooling2d_35  (None, 512)               0         \n",
      "_________________________________________________________________\n",
      "dense_73 (Dense)             (None, 512)               262656    \n",
      "_________________________________________________________________\n",
      "dropout_33 (Dropout)         (None, 512)               0         \n",
      "_________________________________________________________________\n",
      "dense_74 (Dense)             (None, 3)                 1539      \n",
      "=================================================================\n",
      "Total params: 14,978,883\n",
      "Trainable params: 7,343,619\n",
      "Non-trainable params: 7,635,264\n",
      "_________________________________________________________________\n",
      "None\n",
      "Epoch 1/8\n",
      "15000/15000 [==============================] - 29s 2ms/sample - loss: 337316354902332233803104256.0000\n",
      "Epoch 2/8\n",
      "15000/15000 [==============================] - 17s 1ms/sample - loss: 329453768303324072243101696.0000\n",
      "Epoch 3/8\n",
      "15000/15000 [==============================] - 17s 1ms/sample - loss: 321913176676157487683993600.0000\n",
      "Epoch 4/8\n",
      "15000/15000 [==============================] - 17s 1ms/sample - loss: 316155085153102428163276800.0000\n",
      "Epoch 5/8\n",
      "15000/15000 [==============================] - 17s 1ms/sample - loss: 310628647576491937453047808.0000\n",
      "Epoch 6/8\n",
      "15000/15000 [==============================] - 17s 1ms/sample - loss: 303960225328798393010487296.0000\n",
      "Epoch 7/8\n",
      "15000/15000 [==============================] - 17s 1ms/sample - loss: 298741344924760387553853440.0000\n",
      "Epoch 8/8\n",
      "15000/15000 [==============================] - 17s 1ms/sample - loss: 293634234484303597716635648.0000\n",
      "[INFO] predicting pose...\n",
      "The Mean Square Error is:  2.9107780253296917e+26\n",
      "None\n"
     ]
    }
   ],
   "source": [
    "model_vgg_220_1 = compile_vgg16(lr=0.1)\n",
    "train_model(model_vgg_220_1,trainImagesX, testImagesX, trainY, testY, epochs=8)\n"
   ]
  },
  {
   "cell_type": "code",
   "execution_count": 523,
   "metadata": {
    "scrolled": true
   },
   "outputs": [
    {
     "name": "stdout",
     "output_type": "stream",
     "text": [
      "_________________________________________________________________\n",
      "Layer (type)                 Output Shape              Param #   \n",
      "=================================================================\n",
      "input_41 (InputLayer)        (None, 128, 128, 3)       0         \n",
      "_________________________________________________________________\n",
      "block1_conv1 (Conv2D)        (None, 128, 128, 64)      1792      \n",
      "_________________________________________________________________\n",
      "block1_conv2 (Conv2D)        (None, 128, 128, 64)      36928     \n",
      "_________________________________________________________________\n",
      "block1_pool (MaxPooling2D)   (None, 64, 64, 64)        0         \n",
      "_________________________________________________________________\n",
      "block2_conv1 (Conv2D)        (None, 64, 64, 128)       73856     \n",
      "_________________________________________________________________\n",
      "block2_conv2 (Conv2D)        (None, 64, 64, 128)       147584    \n",
      "_________________________________________________________________\n",
      "block2_pool (MaxPooling2D)   (None, 32, 32, 128)       0         \n",
      "_________________________________________________________________\n",
      "block3_conv1 (Conv2D)        (None, 32, 32, 256)       295168    \n",
      "_________________________________________________________________\n",
      "block3_conv2 (Conv2D)        (None, 32, 32, 256)       590080    \n",
      "_________________________________________________________________\n",
      "block3_conv3 (Conv2D)        (None, 32, 32, 256)       590080    \n",
      "_________________________________________________________________\n",
      "block3_pool (MaxPooling2D)   (None, 16, 16, 256)       0         \n",
      "_________________________________________________________________\n",
      "block4_conv1 (Conv2D)        (None, 16, 16, 512)       1180160   \n",
      "_________________________________________________________________\n",
      "block4_conv2 (Conv2D)        (None, 16, 16, 512)       2359808   \n",
      "_________________________________________________________________\n",
      "block4_conv3 (Conv2D)        (None, 16, 16, 512)       2359808   \n",
      "_________________________________________________________________\n",
      "block4_pool (MaxPooling2D)   (None, 8, 8, 512)         0         \n",
      "_________________________________________________________________\n",
      "block5_conv1 (Conv2D)        (None, 8, 8, 512)         2359808   \n",
      "_________________________________________________________________\n",
      "block5_conv2 (Conv2D)        (None, 8, 8, 512)         2359808   \n",
      "_________________________________________________________________\n",
      "block5_conv3 (Conv2D)        (None, 8, 8, 512)         2359808   \n",
      "_________________________________________________________________\n",
      "block5_pool (MaxPooling2D)   (None, 4, 4, 512)         0         \n",
      "_________________________________________________________________\n",
      "global_average_pooling2d_36  (None, 512)               0         \n",
      "_________________________________________________________________\n",
      "dense_75 (Dense)             (None, 512)               262656    \n",
      "_________________________________________________________________\n",
      "dropout_34 (Dropout)         (None, 512)               0         \n",
      "_________________________________________________________________\n",
      "dense_76 (Dense)             (None, 3)                 1539      \n",
      "=================================================================\n",
      "Total params: 14,978,883\n",
      "Trainable params: 7,343,619\n",
      "Non-trainable params: 7,635,264\n",
      "_________________________________________________________________\n",
      "None\n",
      "Epoch 1/8\n",
      "15000/15000 [==============================] - 27s 2ms/sample - loss: 0.1925\n",
      "Epoch 2/8\n",
      "15000/15000 [==============================] - 17s 1ms/sample - loss: 0.0869\n",
      "Epoch 3/8\n",
      "15000/15000 [==============================] - 17s 1ms/sample - loss: 0.0837\n",
      "Epoch 4/8\n",
      "15000/15000 [==============================] - 17s 1ms/sample - loss: 0.0793\n",
      "Epoch 5/8\n",
      "15000/15000 [==============================] - 17s 1ms/sample - loss: 0.0737\n",
      "Epoch 6/8\n",
      "15000/15000 [==============================] - 17s 1ms/sample - loss: 0.0667\n",
      "Epoch 7/8\n",
      "15000/15000 [==============================] - 17s 1ms/sample - loss: 0.0558\n",
      "Epoch 8/8\n",
      "15000/15000 [==============================] - 17s 1ms/sample - loss: 0.0476\n",
      "[INFO] predicting pose...\n",
      "The Mean Square Error is:  0.08026982160211363\n",
      "None\n"
     ]
    }
   ],
   "source": [
    "model_vgg_220_1 = compile_vgg16(lr=0.0001)\n",
    "train_model(model_vgg_220_1,trainImagesX, testImagesX, trainY, testY, epochs=8)"
   ]
  },
  {
   "cell_type": "code",
   "execution_count": null,
   "metadata": {},
   "outputs": [],
   "source": [
    "split = train_test_split(images, lables, test_size=0.25, random_state=42)\n",
    "(trainImagesX,testImagesX, trainY, testY ) = split"
   ]
  },
  {
   "cell_type": "code",
   "execution_count": 524,
   "metadata": {
    "scrolled": true
   },
   "outputs": [
    {
     "name": "stdout",
     "output_type": "stream",
     "text": [
      "_________________________________________________________________\n",
      "Layer (type)                 Output Shape              Param #   \n",
      "=================================================================\n",
      "input_42 (InputLayer)        (None, 128, 128, 3)       0         \n",
      "_________________________________________________________________\n",
      "block1_conv1 (Conv2D)        (None, 128, 128, 64)      1792      \n",
      "_________________________________________________________________\n",
      "block1_conv2 (Conv2D)        (None, 128, 128, 64)      36928     \n",
      "_________________________________________________________________\n",
      "block1_pool (MaxPooling2D)   (None, 64, 64, 64)        0         \n",
      "_________________________________________________________________\n",
      "block2_conv1 (Conv2D)        (None, 64, 64, 128)       73856     \n",
      "_________________________________________________________________\n",
      "block2_conv2 (Conv2D)        (None, 64, 64, 128)       147584    \n",
      "_________________________________________________________________\n",
      "block2_pool (MaxPooling2D)   (None, 32, 32, 128)       0         \n",
      "_________________________________________________________________\n",
      "block3_conv1 (Conv2D)        (None, 32, 32, 256)       295168    \n",
      "_________________________________________________________________\n",
      "block3_conv2 (Conv2D)        (None, 32, 32, 256)       590080    \n",
      "_________________________________________________________________\n",
      "block3_conv3 (Conv2D)        (None, 32, 32, 256)       590080    \n",
      "_________________________________________________________________\n",
      "block3_pool (MaxPooling2D)   (None, 16, 16, 256)       0         \n",
      "_________________________________________________________________\n",
      "block4_conv1 (Conv2D)        (None, 16, 16, 512)       1180160   \n",
      "_________________________________________________________________\n",
      "block4_conv2 (Conv2D)        (None, 16, 16, 512)       2359808   \n",
      "_________________________________________________________________\n",
      "block4_conv3 (Conv2D)        (None, 16, 16, 512)       2359808   \n",
      "_________________________________________________________________\n",
      "block4_pool (MaxPooling2D)   (None, 8, 8, 512)         0         \n",
      "_________________________________________________________________\n",
      "block5_conv1 (Conv2D)        (None, 8, 8, 512)         2359808   \n",
      "_________________________________________________________________\n",
      "block5_conv2 (Conv2D)        (None, 8, 8, 512)         2359808   \n",
      "_________________________________________________________________\n",
      "block5_conv3 (Conv2D)        (None, 8, 8, 512)         2359808   \n",
      "_________________________________________________________________\n",
      "block5_pool (MaxPooling2D)   (None, 4, 4, 512)         0         \n",
      "_________________________________________________________________\n",
      "global_average_pooling2d_37  (None, 512)               0         \n",
      "_________________________________________________________________\n",
      "dense_77 (Dense)             (None, 512)               262656    \n",
      "_________________________________________________________________\n",
      "dropout_35 (Dropout)         (None, 512)               0         \n",
      "_________________________________________________________________\n",
      "dense_78 (Dense)             (None, 3)                 1539      \n",
      "=================================================================\n",
      "Total params: 14,978,883\n",
      "Trainable params: 7,343,619\n",
      "Non-trainable params: 7,635,264\n",
      "_________________________________________________________________\n",
      "None\n",
      "Epoch 1/8\n",
      "15000/15000 [==============================] - 28s 2ms/sample - loss: 0.6356\n",
      "Epoch 2/8\n",
      "15000/15000 [==============================] - 17s 1ms/sample - loss: 0.0899\n",
      "Epoch 3/8\n",
      "15000/15000 [==============================] - 17s 1ms/sample - loss: 0.0865\n",
      "Epoch 4/8\n",
      "15000/15000 [==============================] - 17s 1ms/sample - loss: 0.0842\n",
      "Epoch 5/8\n",
      "15000/15000 [==============================] - 17s 1ms/sample - loss: 0.0816\n",
      "Epoch 6/8\n",
      "15000/15000 [==============================] - 17s 1ms/sample - loss: 0.0796\n",
      "Epoch 7/8\n",
      "15000/15000 [==============================] - 17s 1ms/sample - loss: 0.0776\n",
      "Epoch 8/8\n",
      "15000/15000 [==============================] - 17s 1ms/sample - loss: 0.0758\n",
      "[INFO] predicting pose...\n",
      "The Mean Square Error is:  0.08582158149168077\n",
      "None\n"
     ]
    }
   ],
   "source": [
    "model_vgg_220_1 = compile_vgg16(lr=0.00001)\n",
    "train_model(model_vgg_220_1,trainImagesX, testImagesX, trainY, testY, epochs=8)"
   ]
  },
  {
   "cell_type": "code",
   "execution_count": 502,
   "metadata": {
    "scrolled": true
   },
   "outputs": [
    {
     "name": "stdout",
     "output_type": "stream",
     "text": [
      "_________________________________________________________________\n",
      "Layer (type)                 Output Shape              Param #   \n",
      "=================================================================\n",
      "input_30 (InputLayer)        (None, 128, 128, 3)       0         \n",
      "_________________________________________________________________\n",
      "block1_conv1 (Conv2D)        (None, 128, 128, 64)      1792      \n",
      "_________________________________________________________________\n",
      "block1_conv2 (Conv2D)        (None, 128, 128, 64)      36928     \n",
      "_________________________________________________________________\n",
      "block1_pool (MaxPooling2D)   (None, 64, 64, 64)        0         \n",
      "_________________________________________________________________\n",
      "block2_conv1 (Conv2D)        (None, 64, 64, 128)       73856     \n",
      "_________________________________________________________________\n",
      "block2_conv2 (Conv2D)        (None, 64, 64, 128)       147584    \n",
      "_________________________________________________________________\n",
      "block2_pool (MaxPooling2D)   (None, 32, 32, 128)       0         \n",
      "_________________________________________________________________\n",
      "block3_conv1 (Conv2D)        (None, 32, 32, 256)       295168    \n",
      "_________________________________________________________________\n",
      "block3_conv2 (Conv2D)        (None, 32, 32, 256)       590080    \n",
      "_________________________________________________________________\n",
      "block3_conv3 (Conv2D)        (None, 32, 32, 256)       590080    \n",
      "_________________________________________________________________\n",
      "block3_pool (MaxPooling2D)   (None, 16, 16, 256)       0         \n",
      "_________________________________________________________________\n",
      "block4_conv1 (Conv2D)        (None, 16, 16, 512)       1180160   \n",
      "_________________________________________________________________\n",
      "block4_conv2 (Conv2D)        (None, 16, 16, 512)       2359808   \n",
      "_________________________________________________________________\n",
      "block4_conv3 (Conv2D)        (None, 16, 16, 512)       2359808   \n",
      "_________________________________________________________________\n",
      "block4_pool (MaxPooling2D)   (None, 8, 8, 512)         0         \n",
      "_________________________________________________________________\n",
      "block5_conv1 (Conv2D)        (None, 8, 8, 512)         2359808   \n",
      "_________________________________________________________________\n",
      "block5_conv2 (Conv2D)        (None, 8, 8, 512)         2359808   \n",
      "_________________________________________________________________\n",
      "block5_conv3 (Conv2D)        (None, 8, 8, 512)         2359808   \n",
      "_________________________________________________________________\n",
      "block5_pool (MaxPooling2D)   (None, 4, 4, 512)         0         \n",
      "_________________________________________________________________\n",
      "global_average_pooling2d_25  (None, 512)               0         \n",
      "_________________________________________________________________\n",
      "dense_53 (Dense)             (None, 512)               262656    \n",
      "_________________________________________________________________\n",
      "dropout_23 (Dropout)         (None, 512)               0         \n",
      "_________________________________________________________________\n",
      "dense_54 (Dense)             (None, 3)                 1539      \n",
      "=================================================================\n",
      "Total params: 14,978,883\n",
      "Trainable params: 7,343,619\n",
      "Non-trainable params: 7,635,264\n",
      "_________________________________________________________________\n",
      "None\n",
      "Epoch 1/40\n",
      "15000/15000 [==============================] - 24s 2ms/sample - loss: 21415.1737\n",
      "Epoch 2/40\n",
      "15000/15000 [==============================] - 17s 1ms/sample - loss: 0.0956\n",
      "Epoch 3/40\n",
      "15000/15000 [==============================] - 17s 1ms/sample - loss: 0.0956\n",
      "Epoch 4/40\n",
      "15000/15000 [==============================] - 17s 1ms/sample - loss: 0.0956\n",
      "Epoch 5/40\n",
      "15000/15000 [==============================] - 17s 1ms/sample - loss: 0.0956\n",
      "Epoch 6/40\n",
      "15000/15000 [==============================] - 17s 1ms/sample - loss: 0.0956\n",
      "Epoch 7/40\n",
      "15000/15000 [==============================] - 17s 1ms/sample - loss: 0.0955\n",
      "Epoch 8/40\n",
      "15000/15000 [==============================] - 17s 1ms/sample - loss: 0.0955\n",
      "Epoch 9/40\n",
      "15000/15000 [==============================] - 17s 1ms/sample - loss: 0.0955\n",
      "Epoch 10/40\n",
      "15000/15000 [==============================] - 17s 1ms/sample - loss: 0.0955\n",
      "Epoch 11/40\n",
      "15000/15000 [==============================] - 17s 1ms/sample - loss: 0.0955\n",
      "Epoch 12/40\n",
      "15000/15000 [==============================] - 17s 1ms/sample - loss: 0.0955\n",
      "Epoch 13/40\n",
      "15000/15000 [==============================] - 17s 1ms/sample - loss: 0.0955\n",
      "Epoch 14/40\n",
      "15000/15000 [==============================] - 17s 1ms/sample - loss: 0.0955\n",
      "Epoch 15/40\n",
      "15000/15000 [==============================] - 17s 1ms/sample - loss: 0.0955\n",
      "Epoch 16/40\n",
      "15000/15000 [==============================] - 17s 1ms/sample - loss: 0.0955\n",
      "Epoch 17/40\n",
      "15000/15000 [==============================] - 17s 1ms/sample - loss: 0.0955\n",
      "Epoch 18/40\n",
      "15000/15000 [==============================] - 17s 1ms/sample - loss: 0.0955\n",
      "Epoch 19/40\n",
      "15000/15000 [==============================] - 17s 1ms/sample - loss: 0.0955\n",
      "Epoch 20/40\n",
      "15000/15000 [==============================] - 17s 1ms/sample - loss: 0.0955\n",
      "Epoch 21/40\n",
      "15000/15000 [==============================] - 17s 1ms/sample - loss: 0.0955\n",
      "Epoch 22/40\n",
      "15000/15000 [==============================] - 17s 1ms/sample - loss: 0.0955\n",
      "Epoch 23/40\n",
      "15000/15000 [==============================] - 17s 1ms/sample - loss: 0.0955\n",
      "Epoch 24/40\n",
      "15000/15000 [==============================] - 17s 1ms/sample - loss: 0.0955\n",
      "Epoch 25/40\n",
      "15000/15000 [==============================] - 17s 1ms/sample - loss: 0.0955\n",
      "Epoch 26/40\n",
      "15000/15000 [==============================] - 17s 1ms/sample - loss: 0.0955\n",
      "Epoch 27/40\n",
      "15000/15000 [==============================] - 17s 1ms/sample - loss: 0.0955\n",
      "Epoch 28/40\n",
      "15000/15000 [==============================] - 17s 1ms/sample - loss: 0.0955\n",
      "Epoch 29/40\n",
      "15000/15000 [==============================] - 17s 1ms/sample - loss: 0.0955\n",
      "Epoch 30/40\n",
      "15000/15000 [==============================] - 17s 1ms/sample - loss: 0.0955\n",
      "Epoch 31/40\n",
      "15000/15000 [==============================] - 17s 1ms/sample - loss: 0.0955\n",
      "Epoch 32/40\n",
      "15000/15000 [==============================] - 17s 1ms/sample - loss: 0.0955\n",
      "Epoch 33/40\n",
      "15000/15000 [==============================] - 17s 1ms/sample - loss: 0.0955\n",
      "Epoch 34/40\n",
      "15000/15000 [==============================] - 17s 1ms/sample - loss: 0.0955\n",
      "Epoch 35/40\n",
      "15000/15000 [==============================] - 17s 1ms/sample - loss: 0.0955\n",
      "Epoch 36/40\n",
      "15000/15000 [==============================] - 17s 1ms/sample - loss: 0.0955\n",
      "Epoch 37/40\n",
      "15000/15000 [==============================] - 17s 1ms/sample - loss: 0.0955\n",
      "Epoch 38/40\n",
      "15000/15000 [==============================] - 17s 1ms/sample - loss: 0.0955\n",
      "Epoch 39/40\n",
      "15000/15000 [==============================] - 17s 1ms/sample - loss: 0.0955\n",
      "Epoch 40/40\n",
      "15000/15000 [==============================] - 17s 1ms/sample - loss: 0.0955\n",
      "[INFO] predicting pose...\n",
      "The Mean Square Error is:  0.09742930277116743\n",
      "None\n"
     ]
    }
   ],
   "source": [
    "# dripout 0.2\n",
    "model_vgg_220_2 = compile_vgg16()\n",
    "train_model(model_vgg_220_2,trainImagesX, testImagesX, trainY, testY, epochs=40)"
   ]
  },
  {
   "cell_type": "markdown",
   "metadata": {},
   "source": [
    "### Trying to see improve with epochs\n",
    "if i do i will run random search tmw but first i'll evaluate the models againinset the evaluation set"
   ]
  },
  {
   "cell_type": "markdown",
   "metadata": {},
   "source": [
    "\n",
    "Trying different model alexnet\n",
    "a simpler model\n",
    "a bigger dataset\n",
    "different learning rate"
   ]
  },
  {
   "cell_type": "code",
   "execution_count": 501,
   "metadata": {},
   "outputs": [
    {
     "name": "stdout",
     "output_type": "stream",
     "text": [
      "[INFO] predicting pose...\n",
      "The Mean Square Error is:  0.09758186905147864\n"
     ]
    }
   ],
   "source": [
    "evaluate(model_vgg_220, testImagesX, testY)"
   ]
  },
  {
   "cell_type": "code",
   "execution_count": 500,
   "metadata": {},
   "outputs": [
    {
     "name": "stdout",
     "output_type": "stream",
     "text": [
      "[INFO] predicting pose...\n",
      "The Mean Square Error is:  0.0974718806457217\n"
     ]
    }
   ],
   "source": [
    "evaluate(model_vgg_220_1, testImagesX, testY)"
   ]
  },
  {
   "cell_type": "code",
   "execution_count": 499,
   "metadata": {},
   "outputs": [
    {
     "name": "stdout",
     "output_type": "stream",
     "text": [
      "[INFO] predicting pose...\n",
      "The Mean Square Error is:  0.09773930470079295\n"
     ]
    }
   ],
   "source": [
    "evaluate(model_vgg_220_2, testImagesX, testY)"
   ]
  },
  {
   "cell_type": "code",
   "execution_count": 136,
   "metadata": {},
   "outputs": [],
   "source": [
    "def calc_mse(y, y_pred):\n",
    "    mse = ((y - y_pred)**2).mean(axis=None)\n",
    "# #     summation = 0  #variable to store the summation of differences\n",
    "#     n = len(y) #finding total number of items in list\n",
    "#     for i in range (0,n):  #looping through each element of the list\n",
    "#         difference = abs((y[i] - y_pred[i]).sum())  #finding the difference between observed and predicted value\n",
    "#         squared_difference = np.sqrt(difference)  #taking square of the differene \n",
    "#         if(not math.isnan(squared_difference)):\n",
    "#             summation = summation + squared_difference  #taking a sum of all the differences\n",
    "#     MSE = summation/n  #dividing summation by total values to obtain average\n",
    "    print( \"The Mean Square Error is: \" , mse)"
   ]
  },
  {
   "cell_type": "code",
   "execution_count": 430,
   "metadata": {},
   "outputs": [
    {
     "name": "stdout",
     "output_type": "stream",
     "text": [
      "The Mean Square Error is:  0.4733442552582669\n"
     ]
    }
   ],
   "source": [
    "# 1 batches\n",
    "calc_mse(testY, p)"
   ]
  },
  {
   "cell_type": "code",
   "execution_count": 438,
   "metadata": {},
   "outputs": [
    {
     "name": "stdout",
     "output_type": "stream",
     "text": [
      "The Mean Square Error is:  0.46358638723507856\n"
     ]
    }
   ],
   "source": [
    "# 2 batches\n",
    "calc_mse(testY, p)"
   ]
  },
  {
   "cell_type": "code",
   "execution_count": 445,
   "metadata": {},
   "outputs": [
    {
     "name": "stdout",
     "output_type": "stream",
     "text": [
      "The Mean Square Error is:  0.4491790638609906\n"
     ]
    }
   ],
   "source": [
    "# 20 batches\n",
    "calc_mse(testY, p)"
   ]
  },
  {
   "cell_type": "code",
   "execution_count": 448,
   "metadata": {},
   "outputs": [
    {
     "name": "stdout",
     "output_type": "stream",
     "text": [
      "The Mean Square Error is:  0.4491790638609906\n"
     ]
    }
   ],
   "source": [
    "# 20 batches\n",
    "calc_mse(testY, p)"
   ]
  },
  {
   "cell_type": "code",
   "execution_count": null,
   "metadata": {},
   "outputs": [],
   "source": []
  },
  {
   "cell_type": "code",
   "execution_count": null,
   "metadata": {},
   "outputs": [],
   "source": []
  },
  {
   "cell_type": "code",
   "execution_count": null,
   "metadata": {},
   "outputs": [],
   "source": []
  },
  {
   "cell_type": "code",
   "execution_count": 146,
   "metadata": {
    "scrolled": true
   },
   "outputs": [
    {
     "name": "stdout",
     "output_type": "stream",
     "text": [
      "_________________________________________________________________\n",
      "Layer (type)                 Output Shape              Param #   \n",
      "=================================================================\n",
      "input_15 (InputLayer)        (None, 128, 128, 3)       0         \n",
      "_________________________________________________________________\n",
      "block1_conv1 (Conv2D)        (None, 128, 128, 64)      1792      \n",
      "_________________________________________________________________\n",
      "block1_conv2 (Conv2D)        (None, 128, 128, 64)      36928     \n",
      "_________________________________________________________________\n",
      "block1_pool (MaxPooling2D)   (None, 64, 64, 64)        0         \n",
      "_________________________________________________________________\n",
      "block2_conv1 (Conv2D)        (None, 64, 64, 128)       73856     \n",
      "_________________________________________________________________\n",
      "block2_conv2 (Conv2D)        (None, 64, 64, 128)       147584    \n",
      "_________________________________________________________________\n",
      "block2_pool (MaxPooling2D)   (None, 32, 32, 128)       0         \n",
      "_________________________________________________________________\n",
      "block3_conv1 (Conv2D)        (None, 32, 32, 256)       295168    \n",
      "_________________________________________________________________\n",
      "block3_conv2 (Conv2D)        (None, 32, 32, 256)       590080    \n",
      "_________________________________________________________________\n",
      "block3_conv3 (Conv2D)        (None, 32, 32, 256)       590080    \n",
      "_________________________________________________________________\n",
      "block3_pool (MaxPooling2D)   (None, 16, 16, 256)       0         \n",
      "_________________________________________________________________\n",
      "block4_conv1 (Conv2D)        (None, 16, 16, 512)       1180160   \n",
      "_________________________________________________________________\n",
      "block4_conv2 (Conv2D)        (None, 16, 16, 512)       2359808   \n",
      "_________________________________________________________________\n",
      "block4_conv3 (Conv2D)        (None, 16, 16, 512)       2359808   \n",
      "_________________________________________________________________\n",
      "block4_pool (MaxPooling2D)   (None, 8, 8, 512)         0         \n",
      "_________________________________________________________________\n",
      "block5_conv1 (Conv2D)        (None, 8, 8, 512)         2359808   \n",
      "_________________________________________________________________\n",
      "block5_conv2 (Conv2D)        (None, 8, 8, 512)         2359808   \n",
      "_________________________________________________________________\n",
      "block5_conv3 (Conv2D)        (None, 8, 8, 512)         2359808   \n",
      "_________________________________________________________________\n",
      "block5_pool (MaxPooling2D)   (None, 4, 4, 512)         0         \n",
      "_________________________________________________________________\n",
      "global_average_pooling2d_13  (None, 512)               0         \n",
      "_________________________________________________________________\n",
      "dense_26 (Dense)             (None, 512)               262656    \n",
      "_________________________________________________________________\n",
      "dropout_13 (Dropout)         (None, 512)               0         \n",
      "_________________________________________________________________\n",
      "dense_27 (Dense)             (None, 3)                 1539      \n",
      "=================================================================\n",
      "Total params: 14,978,883\n",
      "Trainable params: 7,343,619\n",
      "Non-trainable params: 7,635,264\n",
      "_________________________________________________________________\n",
      "None\n",
      "Epoch 1/8\n",
      "15000/15000 [==============================] - 18s 1ms/sample - loss: 0.5773\n",
      "Epoch 2/8\n",
      "15000/15000 [==============================] - 16s 1ms/sample - loss: 0.0899\n",
      "Epoch 3/8\n",
      "15000/15000 [==============================] - 16s 1ms/sample - loss: 0.0864\n",
      "Epoch 4/8\n",
      "15000/15000 [==============================] - 16s 1ms/sample - loss: 0.0838\n",
      "Epoch 5/8\n",
      "15000/15000 [==============================] - 17s 1ms/sample - loss: 0.0818\n",
      "Epoch 6/8\n",
      "15000/15000 [==============================] - 17s 1ms/sample - loss: 0.0794\n",
      "Epoch 7/8\n",
      "15000/15000 [==============================] - 17s 1ms/sample - loss: 0.0770\n",
      "Epoch 8/8\n",
      "15000/15000 [==============================] - 17s 1ms/sample - loss: 0.0748\n",
      "[INFO] predicting pose...\n",
      "[[ 0.13144487 -0.01380267  0.074935  ]\n",
      " [ 0.27828804  0.02434873  0.11088542]\n",
      " [ 0.16513017  0.08576616  0.16557938]\n",
      " [ 0.20011052 -0.06067497  0.05777963]\n",
      " [ 0.08028146 -0.03982532 -0.11417163]]\n",
      "The Mean Square Error is:  0.08694654098429379\n",
      "None\n"
     ]
    }
   ],
   "source": [
    "model_vgg_220_1 = compile_vgg16(lr=0.00001)\n",
    "train_model(model_vgg_220_1,trainImagesX, testImagesX, trainY, testY, epochs=8)"
   ]
  },
  {
   "cell_type": "code",
   "execution_count": 147,
   "metadata": {},
   "outputs": [
    {
     "data": {
      "text/plain": [
       "array([[ 0.20011054, -0.06067495,  0.05777963],\n",
       "       [ 0.08028145, -0.03982532, -0.11417163],\n",
       "       [ 0.14486001, -0.01537884, -0.03081495]], dtype=float32)"
      ]
     },
     "execution_count": 147,
     "metadata": {},
     "output_type": "execute_result"
    }
   ],
   "source": [
    "model_vgg_220_1.predict(testImagesX[3:6])"
   ]
  },
  {
   "cell_type": "code",
   "execution_count": 149,
   "metadata": {},
   "outputs": [
    {
     "data": {
      "text/plain": [
       "array([[ 0.1765491, -0.3315804, -0.537317 ]], dtype=float32)"
      ]
     },
     "execution_count": 149,
     "metadata": {},
     "output_type": "execute_result"
    }
   ],
   "source": [
    "model_vgg_220_1.predict(np.zeros((128,128,3)).reshape((1,128,128,3)))"
   ]
  },
  {
   "cell_type": "code",
   "execution_count": 150,
   "metadata": {},
   "outputs": [
    {
     "data": {
      "text/plain": [
       "array([[0.00262151, 2.107149  , 0.2367273 ]], dtype=float32)"
      ]
     },
     "execution_count": 150,
     "metadata": {},
     "output_type": "execute_result"
    }
   ],
   "source": [
    "model_vgg_220_1.predict(np.ones((128,128,3)).reshape((1,128,128,3))*255)"
   ]
  },
  {
   "cell_type": "code",
   "execution_count": null,
   "metadata": {},
   "outputs": [],
   "source": []
  },
  {
   "cell_type": "markdown",
   "metadata": {},
   "source": [
    "## tring fit_generator"
   ]
  },
  {
   "cell_type": "code",
   "execution_count": 188,
   "metadata": {},
   "outputs": [],
   "source": [
    "def create_generator(dataset, shuffle, image_size, class_mode=\"raw\", y_col=[\"rx\",\"ry\",\"rz\"], workers=0, use_multiprocessing=False):\n",
    "    data_gen = tf.keras.preprocessing.image.ImageDataGenerator(\n",
    "         preprocessing_function=tf.keras.applications.vgg16.preprocess_input\n",
    "#          preprocessing_function=\n",
    "    )\n",
    "\n",
    "    generator = data_gen.flow_from_dataframe(\n",
    "        dataframe=dataset,\n",
    "        x_col=\"image_path\",\n",
    "        y_col=y_col,\n",
    "        target_size=image_size,\n",
    "        color_mode=\"rgb\",\n",
    "        batch_size=32,\n",
    "        class_mode=class_mode,\n",
    "        shuffle=shuffle,\n",
    "        workers=workers,\n",
    "        use_multiprocessing=use_multiprocessing,\n",
    "\n",
    "    )\n",
    "    return generator\n"
   ]
  },
  {
   "cell_type": "code",
   "execution_count": 186,
   "metadata": {},
   "outputs": [],
   "source": [
    "ds_train, ds_test = train_test_split(dataset[:40000],test_size=0.25, random_state=42)"
   ]
  },
  {
   "cell_type": "code",
   "execution_count": 190,
   "metadata": {},
   "outputs": [
    {
     "name": "stdout",
     "output_type": "stream",
     "text": [
      "Found 30000 validated image filenames.\n",
      "Found 10000 validated image filenames.\n",
      "Found 5 validated image filenames.\n"
     ]
    }
   ],
   "source": [
    "train_gen = create_generator(ds_train, True, (128,128), workers=10, use_multiprocessing=True)\n",
    "test_gen = create_generator(ds_test, False,(128,128))\n",
    "test_gen_sample = create_generator(ds_test[:5], False,(128,128), class_mode=None)"
   ]
  },
  {
   "cell_type": "code",
   "execution_count": 170,
   "metadata": {},
   "outputs": [],
   "source": [
    "pd_set = pd.DataFrame(list(zip(image_paths,  lables)), columns=[\"image_path\",\"label\"])"
   ]
  },
  {
   "cell_type": "code",
   "execution_count": 171,
   "metadata": {},
   "outputs": [],
   "source": [
    "ds_train, ds_test = train_test_split(pd_set[:20000],test_size=0.25, random_state=42)"
   ]
  },
  {
   "cell_type": "code",
   "execution_count": 173,
   "metadata": {},
   "outputs": [
    {
     "name": "stdout",
     "output_type": "stream",
     "text": [
      "Found 15000 validated image filenames.\n",
      "Found 5000 validated image filenames.\n",
      "Found 5 validated image filenames.\n"
     ]
    }
   ],
   "source": [
    "train_gen = create_generator(ds_train, True, (128,128))\n",
    "test_gen = create_generator(ds_test, False,(128,128))\n",
    "test_gen_sample = create_generator(ds_test[:5], False,(128,128), class_mode=None)"
   ]
  },
  {
   "cell_type": "code",
   "execution_count": null,
   "metadata": {},
   "outputs": [],
   "source": []
  },
  {
   "cell_type": "markdown",
   "metadata": {},
   "source": [
    "Trying empty images\n",
    "trying yo train only one epoch"
   ]
  },
  {
   "cell_type": "code",
   "execution_count": 191,
   "metadata": {},
   "outputs": [
    {
     "name": "stderr",
     "output_type": "stream",
     "text": [
      "Clipping input data to the valid range for imshow with RGB data ([0..1] for floats or [0..255] for integers).\n"
     ]
    },
    {
     "data": {
      "image/png": "[encoded data removed]",
      "text/plain": [
       "<Figure size 432x288 with 1 Axes>"
      ]
     },
     "metadata": {
      "needs_background": "light"
     },
     "output_type": "display_data"
    }
   ],
   "source": [
    "show_image(images[7])"
   ]
  },
  {
   "cell_type": "code",
   "execution_count": 192,
   "metadata": {
    "scrolled": true
   },
   "outputs": [
    {
     "name": "stdout",
     "output_type": "stream",
     "text": [
      "_________________________________________________________________\n",
      "Layer (type)                 Output Shape              Param #   \n",
      "=================================================================\n",
      "input_18 (InputLayer)        (None, 128, 128, 3)       0         \n",
      "_________________________________________________________________\n",
      "block1_conv1 (Conv2D)        (None, 128, 128, 64)      1792      \n",
      "_________________________________________________________________\n",
      "block1_conv2 (Conv2D)        (None, 128, 128, 64)      36928     \n",
      "_________________________________________________________________\n",
      "block1_pool (MaxPooling2D)   (None, 64, 64, 64)        0         \n",
      "_________________________________________________________________\n",
      "block2_conv1 (Conv2D)        (None, 64, 64, 128)       73856     \n",
      "_________________________________________________________________\n",
      "block2_conv2 (Conv2D)        (None, 64, 64, 128)       147584    \n",
      "_________________________________________________________________\n",
      "block2_pool (MaxPooling2D)   (None, 32, 32, 128)       0         \n",
      "_________________________________________________________________\n",
      "block3_conv1 (Conv2D)        (None, 32, 32, 256)       295168    \n",
      "_________________________________________________________________\n",
      "block3_conv2 (Conv2D)        (None, 32, 32, 256)       590080    \n",
      "_________________________________________________________________\n",
      "block3_conv3 (Conv2D)        (None, 32, 32, 256)       590080    \n",
      "_________________________________________________________________\n",
      "block3_pool (MaxPooling2D)   (None, 16, 16, 256)       0         \n",
      "_________________________________________________________________\n",
      "block4_conv1 (Conv2D)        (None, 16, 16, 512)       1180160   \n",
      "_________________________________________________________________\n",
      "block4_conv2 (Conv2D)        (None, 16, 16, 512)       2359808   \n",
      "_________________________________________________________________\n",
      "block4_conv3 (Conv2D)        (None, 16, 16, 512)       2359808   \n",
      "_________________________________________________________________\n",
      "block4_pool (MaxPooling2D)   (None, 8, 8, 512)         0         \n",
      "_________________________________________________________________\n",
      "block5_conv1 (Conv2D)        (None, 8, 8, 512)         2359808   \n",
      "_________________________________________________________________\n",
      "block5_conv2 (Conv2D)        (None, 8, 8, 512)         2359808   \n",
      "_________________________________________________________________\n",
      "block5_conv3 (Conv2D)        (None, 8, 8, 512)         2359808   \n",
      "_________________________________________________________________\n",
      "block5_pool (MaxPooling2D)   (None, 4, 4, 512)         0         \n",
      "_________________________________________________________________\n",
      "global_average_pooling2d_16  (None, 512)               0         \n",
      "_________________________________________________________________\n",
      "dense_32 (Dense)             (None, 512)               262656    \n",
      "_________________________________________________________________\n",
      "dropout_16 (Dropout)         (None, 512)               0         \n",
      "_________________________________________________________________\n",
      "dense_33 (Dense)             (None, 3)                 1539      \n",
      "=================================================================\n",
      "Total params: 14,978,883\n",
      "Trainable params: 7,343,619\n",
      "Non-trainable params: 7,635,264\n",
      "_________________________________________________________________\n",
      "None\n"
     ]
    }
   ],
   "source": [
    "model_vgg = compile_vgg16()"
   ]
  },
  {
   "cell_type": "code",
   "execution_count": 193,
   "metadata": {
    "scrolled": true
   },
   "outputs": [
    {
     "data": {
      "text/plain": [
       "array([[-3.4195986, -9.242373 ,  2.3963244],\n",
       "       [-4.7690215, -5.490983 ,  1.1710353],\n",
       "       [ 2.89084  , -8.745096 , -3.0277016],\n",
       "       [-4.745404 , -8.833796 , -8.341635 ],\n",
       "       [-0.7141514, -8.360921 , -2.77503  ]], dtype=float32)"
      ]
     },
     "execution_count": 193,
     "metadata": {},
     "output_type": "execute_result"
    }
   ],
   "source": [
    "model_vgg.predict_generator(test_gen_sample)"
   ]
  },
  {
   "cell_type": "code",
   "execution_count": 194,
   "metadata": {
    "scrolled": true
   },
   "outputs": [
    {
     "name": "stdout",
     "output_type": "stream",
     "text": [
      "Epoch 1/20\n",
      "938/938 [==============================] - 227s 242ms/step - loss: 9650.2395\n",
      "Epoch 2/20\n",
      "938/938 [==============================] - 33s 36ms/step - loss: 4.0040\n",
      "Epoch 3/20\n",
      "938/938 [==============================] - 33s 36ms/step - loss: 0.0956\n",
      "Epoch 4/20\n",
      "938/938 [==============================] - 33s 35ms/step - loss: 0.0955\n",
      "Epoch 5/20\n",
      "938/938 [==============================] - 33s 35ms/step - loss: 0.0955\n",
      "Epoch 6/20\n",
      "938/938 [==============================] - 33s 36ms/step - loss: 0.0954\n",
      "Epoch 7/20\n",
      "938/938 [==============================] - 33s 35ms/step - loss: 0.0955\n",
      "Epoch 8/20\n",
      "938/938 [==============================] - 33s 35ms/step - loss: 0.0954\n",
      "Epoch 9/20\n",
      "938/938 [==============================] - 33s 36ms/step - loss: 0.0955\n",
      "Epoch 10/20\n",
      "938/938 [==============================] - 33s 36ms/step - loss: 0.0954\n",
      "Epoch 11/20\n",
      "938/938 [==============================] - 33s 36ms/step - loss: 0.0954\n",
      "Epoch 12/20\n",
      "938/938 [==============================] - 33s 36ms/step - loss: 0.0954\n",
      "Epoch 13/20\n",
      "938/938 [==============================] - 33s 36ms/step - loss: 0.0954\n",
      "Epoch 14/20\n",
      "938/938 [==============================] - 33s 36ms/step - loss: 0.0954\n",
      "Epoch 15/20\n",
      "938/938 [==============================] - 33s 36ms/step - loss: 0.0954\n",
      "Epoch 16/20\n",
      "938/938 [==============================] - 33s 36ms/step - loss: 0.0954\n",
      "Epoch 17/20\n",
      "938/938 [==============================] - 33s 36ms/step - loss: 0.0954\n",
      "Epoch 18/20\n",
      "938/938 [==============================] - 33s 35ms/step - loss: 0.0954\n",
      "Epoch 19/20\n",
      "938/938 [==============================] - 34s 36ms/step - loss: 0.0955\n",
      "Epoch 20/20\n",
      "938/938 [==============================] - 33s 36ms/step - loss: 0.0954\n"
     ]
    },
    {
     "data": {
      "text/plain": [
       "<tensorflow.python.keras.callbacks.History at 0x7f36000f30f0>"
      ]
     },
     "execution_count": 194,
     "metadata": {},
     "output_type": "execute_result"
    }
   ],
   "source": [
    "model_vgg.fit_generator(\n",
    "        train_gen,\n",
    "#         steps_per_epoch=2000,\n",
    "        epochs=20)\n",
    "#         validation_data=test_ge n)"
   ]
  },
  {
   "cell_type": "code",
   "execution_count": null,
   "metadata": {},
   "outputs": [],
   "source": [
    "model_vgg.fit_generator(datagen.flow(x_train, y_train, batch_size=32),\n",
    "                    steps_per_epoch=len(x_train) / 32, epochs=epochs))"
   ]
  },
  {
   "cell_type": "code",
   "execution_count": 195,
   "metadata": {},
   "outputs": [
    {
     "data": {
      "text/plain": [
       "array([[ 0.14322154, -0.01268504, -0.05072697],\n",
       "       [ 0.14322154, -0.01268504, -0.05072697],\n",
       "       [ 0.14322154, -0.01268504, -0.05072697],\n",
       "       [ 0.14322154, -0.01268504, -0.05072697],\n",
       "       [ 0.14322154, -0.01268504, -0.05072697],\n",
       "       [ 0.14322154, -0.01268504, -0.05072697],\n",
       "       [ 0.14322154, -0.01268504, -0.05072697]], dtype=float32)"
      ]
     },
     "execution_count": 195,
     "metadata": {},
     "output_type": "execute_result"
    }
   ],
   "source": [
    "model_vgg.predict(testImagesX[3:10])"
   ]
  },
  {
   "cell_type": "code",
   "execution_count": 159,
   "metadata": {},
   "outputs": [
    {
     "data": {
      "text/plain": [
       "array([[ 0.4614623 , -0.15461743, -0.07017204]], dtype=float32)"
      ]
     },
     "execution_count": 159,
     "metadata": {},
     "output_type": "execute_result"
    }
   ],
   "source": [
    "model_vgg.predict(np.zeros((128,128,3)).reshape((1,128,128,3)))"
   ]
  },
  {
   "cell_type": "code",
   "execution_count": 160,
   "metadata": {},
   "outputs": [
    {
     "data": {
      "text/plain": [
       "array([[ 0.14443067, -0.01239607, -0.05454065]], dtype=float32)"
      ]
     },
     "execution_count": 160,
     "metadata": {},
     "output_type": "execute_result"
    }
   ],
   "source": [
    "model_vgg.predict(np.ones((128,128,3)).reshape((1,128,128,3))*255)"
   ]
  },
  {
   "cell_type": "code",
   "execution_count": 28,
   "metadata": {
    "scrolled": true
   },
   "outputs": [
    {
     "name": "stdout",
     "output_type": "stream",
     "text": [
      "_________________________________________________________________\n",
      "Layer (type)                 Output Shape              Param #   \n",
      "=================================================================\n",
      "input_3 (InputLayer)         (None, 128, 128, 3)       0         \n",
      "_________________________________________________________________\n",
      "block1_conv1 (Conv2D)        (None, 128, 128, 64)      1792      \n",
      "_________________________________________________________________\n",
      "block1_conv2 (Conv2D)        (None, 128, 128, 64)      36928     \n",
      "_________________________________________________________________\n",
      "block1_pool (MaxPooling2D)   (None, 64, 64, 64)        0         \n",
      "_________________________________________________________________\n",
      "block2_conv1 (Conv2D)        (None, 64, 64, 128)       73856     \n",
      "_________________________________________________________________\n",
      "block2_conv2 (Conv2D)        (None, 64, 64, 128)       147584    \n",
      "_________________________________________________________________\n",
      "block2_pool (MaxPooling2D)   (None, 32, 32, 128)       0         \n",
      "_________________________________________________________________\n",
      "block3_conv1 (Conv2D)        (None, 32, 32, 256)       295168    \n",
      "_________________________________________________________________\n",
      "block3_conv2 (Conv2D)        (None, 32, 32, 256)       590080    \n",
      "_________________________________________________________________\n",
      "block3_conv3 (Conv2D)        (None, 32, 32, 256)       590080    \n",
      "_________________________________________________________________\n",
      "block3_pool (MaxPooling2D)   (None, 16, 16, 256)       0         \n",
      "_________________________________________________________________\n",
      "block4_conv1 (Conv2D)        (None, 16, 16, 512)       1180160   \n",
      "_________________________________________________________________\n",
      "block4_conv2 (Conv2D)        (None, 16, 16, 512)       2359808   \n",
      "_________________________________________________________________\n",
      "block4_conv3 (Conv2D)        (None, 16, 16, 512)       2359808   \n",
      "_________________________________________________________________\n",
      "block4_pool (MaxPooling2D)   (None, 8, 8, 512)         0         \n",
      "_________________________________________________________________\n",
      "block5_conv1 (Conv2D)        (None, 8, 8, 512)         2359808   \n",
      "_________________________________________________________________\n",
      "block5_conv2 (Conv2D)        (None, 8, 8, 512)         2359808   \n",
      "_________________________________________________________________\n",
      "block5_conv3 (Conv2D)        (None, 8, 8, 512)         2359808   \n",
      "_________________________________________________________________\n",
      "block5_pool (MaxPooling2D)   (None, 4, 4, 512)         0         \n",
      "_________________________________________________________________\n",
      "global_average_pooling2d_1 ( (None, 512)               0         \n",
      "_________________________________________________________________\n",
      "dense_2 (Dense)              (None, 512)               262656    \n",
      "_________________________________________________________________\n",
      "dropout_1 (Dropout)          (None, 512)               0         \n",
      "_________________________________________________________________\n",
      "dense_3 (Dense)              (None, 3)                 1539      \n",
      "=================================================================\n",
      "Total params: 14,978,883\n",
      "Trainable params: 7,343,619\n",
      "Non-trainable params: 7,635,264\n",
      "_________________________________________________________________\n",
      "None\n"
     ]
    }
   ],
   "source": [
    "model_vgg1 = compile_vgg16()"
   ]
  },
  {
   "cell_type": "code",
   "execution_count": 298,
   "metadata": {},
   "outputs": [],
   "source": [
    "weights, biases = model_vgg.layers[2].get_weights()\n"
   ]
  },
  {
   "cell_type": "code",
   "execution_count": 299,
   "metadata": {
    "scrolled": true
   },
   "outputs": [
    {
     "data": {
      "text/plain": [
       "array([[[[ 1.66219279e-01,  1.42701820e-01, -4.02113283e-03, ...,\n",
       "           6.18828237e-02, -1.74057148e-02, -3.00644431e-02],\n",
       "         [ 9.46945231e-03,  3.87477316e-03,  5.08365929e-02, ...,\n",
       "          -2.77981739e-02,  1.71373668e-03,  6.82722731e-03],\n",
       "         [ 6.32681847e-02,  2.12877709e-02, -1.63465310e-02, ...,\n",
       "           8.80054955e-04,  6.68104272e-03, -1.41139806e-03],\n",
       "         ...,\n",
       "         [ 3.47490981e-03,  8.47019628e-02, -4.07223180e-02, ...,\n",
       "          -1.13523193e-02, -7.48998486e-03,  3.19077494e-03],\n",
       "         [ 5.97234145e-02,  4.97663505e-02, -3.23118735e-03, ...,\n",
       "           1.43114366e-02,  3.03175431e-02, -4.23925705e-02],\n",
       "         [ 1.33459672e-01,  4.95484173e-02, -1.78808011e-02, ...,\n",
       "           2.25385167e-02,  3.02020740e-02, -2.17075031e-02]],\n",
       "\n",
       "        [[ 2.12007999e-01,  2.10127644e-02, -1.47626130e-02, ...,\n",
       "           2.29580477e-02,  1.23102348e-02, -3.08422819e-02],\n",
       "         [-2.62175221e-03,  7.42094172e-03,  6.74030930e-02, ...,\n",
       "          -3.06594316e-02,  1.80578313e-03,  4.27369215e-03],\n",
       "         [ 2.27197763e-02, -1.07841045e-02, -1.31095545e-02, ...,\n",
       "          -1.15751950e-02,  4.18359675e-02, -1.92268589e-03],\n",
       "         ...,\n",
       "         [-2.70304317e-03,  7.41161704e-02, -3.32262330e-02, ...,\n",
       "          -1.10277236e-02,  1.39831286e-02,  5.34419343e-03],\n",
       "         [-3.20506282e-02, -2.40584910e-02, -4.52397857e-03, ...,\n",
       "          -6.04042644e-03,  2.01962605e-01, -5.04491515e-02],\n",
       "         [ 1.68114193e-02, -2.33167298e-02, -1.40886130e-02, ...,\n",
       "          -7.79278344e-03,  1.28428593e-01, -2.58184522e-02]],\n",
       "\n",
       "        [[-5.91698708e-03, -2.26223674e-02,  4.88128467e-03, ...,\n",
       "           4.13784146e-04, -4.84175496e-02,  1.63675251e-03],\n",
       "         [-3.93767562e-03,  9.07397643e-03,  5.36517277e-02, ...,\n",
       "          -2.56106984e-02, -4.17886395e-03,  2.47476017e-03],\n",
       "         [-3.07008922e-02, -1.09781921e-02, -3.69096454e-03, ...,\n",
       "          -1.19221993e-02, -1.39777903e-02,  8.52933805e-03],\n",
       "         ...,\n",
       "         [ 5.83332591e-03,  2.96198055e-02, -3.56571227e-02, ...,\n",
       "          -1.01153394e-02,  5.06090466e-03, -2.86859111e-03],\n",
       "         [-7.80934095e-02, -1.95693132e-02,  2.14814320e-02, ...,\n",
       "           7.42452731e-03,  5.41617945e-02, -2.35790759e-02],\n",
       "         [-7.82641992e-02, -2.47034207e-02,  1.36250593e-02, ...,\n",
       "          -7.53259566e-03, -2.59861015e-02,  4.52143652e-03]]],\n",
       "\n",
       "\n",
       "       [[[ 1.99202523e-01,  5.03257252e-02, -1.93236247e-02, ...,\n",
       "           1.62308700e-02, -1.15369558e-02,  1.55777042e-03],\n",
       "         [-1.38656620e-03,  4.52297740e-03,  6.65066689e-02, ...,\n",
       "          -3.00004911e-02,  1.71904117e-04, -1.11898372e-03],\n",
       "         [ 2.14257818e-02,  1.79782789e-03, -1.76792312e-02, ...,\n",
       "          -6.09106943e-03, -3.21686491e-02, -1.07312342e-03],\n",
       "         ...,\n",
       "         [-1.47800148e-02,  7.77616128e-02, -2.67065037e-02, ...,\n",
       "          -8.10234528e-03, -1.15585206e-02, -5.30505227e-03],\n",
       "         [-1.39283072e-02,  1.69547591e-02, -1.20282415e-02, ...,\n",
       "           1.25513040e-02, -8.44068080e-02, -4.48253192e-02],\n",
       "         [ 2.55671684e-02,  7.02229328e-03, -2.82986648e-02, ...,\n",
       "           1.17048556e-02, -7.34802186e-02, -2.06979234e-02]],\n",
       "\n",
       "        [[-2.59410664e-02, -4.97468375e-02, -2.42083799e-02, ...,\n",
       "          -2.39597876e-02,  2.09030695e-02,  1.69499479e-02],\n",
       "         [-4.78290301e-03,  1.04173329e-02,  8.31823424e-02, ...,\n",
       "          -3.18786576e-02,  3.48328054e-03, -3.56311840e-03],\n",
       "         [-3.81173752e-02, -1.85197107e-02, -1.43900532e-02, ...,\n",
       "          -1.41960718e-02,  3.14613059e-02,  4.11967095e-03],\n",
       "         ...,\n",
       "         [-1.79932006e-02,  7.17700496e-02, -1.99375115e-02, ...,\n",
       "          -6.12784317e-03,  1.66521706e-02, -7.48346280e-03],\n",
       "         [-8.91536921e-02, -4.69055325e-02, -1.37380632e-02, ...,\n",
       "          -8.06835108e-03,  6.04359731e-02, -4.47445139e-02],\n",
       "         [-1.00021079e-01, -3.55393849e-02, -2.46136412e-02, ...,\n",
       "          -7.50665693e-03,  9.11064222e-02, -1.06519591e-02]],\n",
       "\n",
       "        [[-9.84916389e-02, -5.77464141e-02, -4.49889433e-03, ...,\n",
       "          -2.21592579e-02, -9.32130869e-03,  5.57853021e-02],\n",
       "         [ 4.70533501e-03,  1.18583711e-02,  6.85855076e-02, ...,\n",
       "          -2.62385849e-02, -2.82203127e-03, -4.67023626e-03],\n",
       "         [-2.28894763e-02, -7.75412470e-03, -9.86886956e-03, ...,\n",
       "          -1.22523597e-02,  4.30414118e-02,  1.28994938e-02],\n",
       "         ...,\n",
       "         [ 2.93275771e-05,  1.62800644e-02, -2.53228396e-02, ...,\n",
       "          -8.11440870e-03,  9.42004658e-03, -1.69352964e-02],\n",
       "         [-4.56118677e-03, -3.88334878e-02, -8.15101550e-04, ...,\n",
       "          -7.37672672e-05,  2.05828294e-01, -1.84731018e-02],\n",
       "         [-3.79626676e-02, -1.82646457e-02, -7.20302528e-03, ...,\n",
       "          -1.28044421e-03,  1.40015617e-01,  1.13147246e-02]]],\n",
       "\n",
       "\n",
       "       [[[-1.11585744e-02, -4.15539136e-03, -6.83113467e-03, ...,\n",
       "           3.17358202e-03, -6.52846992e-02,  8.59456360e-02],\n",
       "         [-6.14583818e-03,  4.85422462e-03,  5.14627509e-02, ...,\n",
       "          -2.23777443e-02, -1.03412592e-03, -8.19014851e-03],\n",
       "         [-1.00106997e-02, -1.59974187e-03, -1.14092128e-02, ...,\n",
       "          -3.87838250e-03, -3.99293639e-02,  1.13589503e-02],\n",
       "         ...,\n",
       "         [-1.68860350e-02,  5.18255346e-02, -2.66014934e-02, ...,\n",
       "          -1.99763244e-03,  4.35560057e-03, -4.49330434e-02],\n",
       "         [-1.34146223e-02,  6.32185815e-03, -7.33473897e-03, ...,\n",
       "           4.59014578e-03, -2.98611149e-02,  3.69221941e-02],\n",
       "         [-2.88858525e-02, -4.22423892e-03, -1.42897591e-02, ...,\n",
       "           1.11823296e-02, -7.52132908e-02,  1.67242344e-02]],\n",
       "\n",
       "        [[-1.02114283e-01, -5.26558608e-02, -1.00238100e-02, ...,\n",
       "          -1.37801170e-02, -4.94753271e-02,  1.25953421e-01],\n",
       "         [ 2.65349774e-03,  1.04075735e-02,  6.73149154e-02, ...,\n",
       "          -2.37589777e-02,  6.13968645e-04, -9.96601582e-03],\n",
       "         [-1.50703192e-02, -1.28871305e-02, -8.77845287e-03, ...,\n",
       "          -1.01640215e-02, -4.76290248e-02,  1.36717530e-02],\n",
       "         ...,\n",
       "         [-5.43789240e-03,  3.35888155e-02, -2.11151708e-02, ...,\n",
       "          -3.83130647e-03, -1.02301398e-02, -5.32924160e-02],\n",
       "         [-2.21891310e-02, -4.92077954e-02, -1.38867581e-02, ...,\n",
       "          -1.28568839e-02, -9.37007815e-02,  5.59309907e-02],\n",
       "         [-2.61166841e-02, -3.50148268e-02, -1.47816772e-02, ...,\n",
       "          -2.86548026e-03, -1.01101905e-01,  1.94419883e-02]],\n",
       "\n",
       "        [[ 2.73401570e-02, -3.54428887e-02,  1.18577422e-03, ...,\n",
       "           5.02943760e-04,  4.51298095e-02,  1.23520821e-01],\n",
       "         [ 9.48381796e-03,  1.12858564e-02,  5.32916747e-02, ...,\n",
       "          -1.81195941e-02, -1.31687860e-03, -1.01092532e-02],\n",
       "         [ 3.73495184e-02, -7.93821830e-03, -5.94039401e-03, ...,\n",
       "          -7.96878152e-03,  1.53274648e-02,  9.63651482e-03],\n",
       "         ...,\n",
       "         [-2.60413792e-02, -2.53635142e-02, -2.81382054e-02, ...,\n",
       "          -6.63971901e-03, -7.26283342e-03, -5.57855107e-02],\n",
       "         [ 2.67488584e-02, -4.73727398e-02, -3.06198676e-03, ...,\n",
       "          -4.82000969e-03,  4.08617556e-02,  6.99444860e-02],\n",
       "         [ 7.98859298e-02, -2.87372041e-02,  6.38093508e-04, ...,\n",
       "           9.73386108e-04,  4.21557203e-02,  1.60824433e-02]]]],\n",
       "      dtype=float32)"
      ]
     },
     "execution_count": 299,
     "metadata": {},
     "output_type": "execute_result"
    }
   ],
   "source": [
    "weights"
   ]
  },
  {
   "cell_type": "code",
   "execution_count": 23,
   "metadata": {},
   "outputs": [],
   "source": [
    "os.environ[\"CUDA_VISIBLE_DEVICES\"] = str(1)"
   ]
  },
  {
   "cell_type": "code",
   "execution_count": 142,
   "metadata": {},
   "outputs": [],
   "source": [
    "# compute the difference between the *predicted* house prices and the\n",
    "# *actual* house prices, then compute the percentage difference and\n",
    "# the absolute percentage difference\n",
    "# diff = preds.flatten() - testY\n",
    "# percentDiff = (diff / testY) * 100\n",
    "# absPercentDiff = np.abs(percentDiff)"
   ]
  },
  {
   "cell_type": "code",
   "execution_count": 123,
   "metadata": {},
   "outputs": [],
   "source": [
    "def evaluate(model, testImagesX, testY):\n",
    "    # make predictions on the testing data\n",
    "    print(\"[INFO] predicting pose...\")\n",
    "    preds = model.predict(testImagesX)\n",
    "    print(model.predict(testImagesX[:5]))\n",
    "    # # compute the mean and standard deviation of the absolute percentage\n",
    "    # # difference\n",
    "    # mean = np.mean(absPercentDiff)\n",
    "    # std = np.std(absPercentDiff)\n",
    "\n",
    "    # # finally, show some statistics on our model\n",
    "    # locale.setlocale(locale.LC_ALL, \"en_US.UTF-8\")\n",
    "    # # print(\"[INFO] avg. house price: {}, std house price: {}\".format(\n",
    "    # # locale.currency(df[\"price\"].mean(), grouping=True),\n",
    "    # # locale.currency(df[\"price\"].std(), grouping=True)))\n",
    "    # print(\"[INFO] mean: {:.2f}%, std: {:.2f}%\".format(mean, std))\n",
    "    calc_mse(testY, preds)"
   ]
  },
  {
   "cell_type": "code",
   "execution_count": null,
   "metadata": {},
   "outputs": [],
   "source": []
  },
  {
   "cell_type": "raw",
   "metadata": {},
   "source": []
  },
  {
   "cell_type": "markdown",
   "metadata": {},
   "source": [
    "## Custom generator"
   ]
  },
  {
   "cell_type": "code",
   "execution_count": 216,
   "metadata": {},
   "outputs": [],
   "source": [
    "\n",
    "class DataGenerator(keras.utils.Sequence):\n",
    "    'Generates data for Keras'\n",
    "    def __init__(self, list_IDs, labels, batch_size=32, dim=(128,128), n_channels=1,\n",
    "                 n_classes=10, shuffle=True):\n",
    "        'Initialization'\n",
    "        self.dim = dim\n",
    "        self.batch_size = batch_size\n",
    "        self.labels = labels\n",
    "        self.list_IDs = list_IDs\n",
    "        self.n_channels = n_channels\n",
    "        self.n_classes = n_classes\n",
    "        self.shuffle = shuffle\n",
    "        self.on_epoch_end()\n",
    "\n",
    "    def __len__(self):\n",
    "        'Denotes the number of batches per epoch'\n",
    "        return int(np.floor(len(self.list_IDs) / self.batch_size))\n",
    "\n",
    "    def __getitem__(self, index):\n",
    "        'Generate one batch of data'\n",
    "        # Generate indexes of the batch\n",
    "        indexes = self.indexes[index*self.batch_size:(index+1)*self.batch_size]\n",
    "\n",
    "        # Find list of IDs\n",
    "#         list_IDs_temp = [self.list_IDs[k] for k in indexes]\n",
    "\n",
    "        # Generate data\n",
    "        X, y = self.__data_generation(indexes)\n",
    "\n",
    "        return X, y\n",
    "\n",
    "    def on_epoch_end(self):\n",
    "        'Updates indexes after each epoch'\n",
    "        self.indexes = np.arange(len(self.list_IDs))\n",
    "        if self.shuffle == True:\n",
    "            np.random.shuffle(self.indexes)\n",
    "\n",
    "    def __data_generation(self, indexes):\n",
    "        'Generates data containing batch_size samples' # X : (n_samples, *dim, n_channels)\n",
    "        # Initialization\n",
    "        X = np.empty((self.batch_size, *self.dim, self.n_channels))\n",
    "        y = np.empty((self.batch_size), dtype=int)\n",
    "\n",
    "        # Generate data\n",
    "        for i, ID in enumerate(indexes):\n",
    "            # Store sample\n",
    "            image = cv2.imread(self.list_IDs[ID])\n",
    "            image = cv2.cvtColor(image, cv2.COLOR_BGR2RGB)\n",
    "            X[i,] = image\n",
    "\n",
    "            # Store class\n",
    "            y[i] = self.labels[ID]\n",
    "\n",
    "        return X, y"
   ]
  },
  {
   "cell_type": "code",
   "execution_count": 217,
   "metadata": {},
   "outputs": [],
   "source": [
    "split = train_test_split(image_paths, lables, test_size=0.25, random_state=42)\n",
    "(trainImagesPathsX,testImagesPathsX, trainY, testY ) = split"
   ]
  },
  {
   "cell_type": "code",
   "execution_count": 218,
   "metadata": {},
   "outputs": [],
   "source": [
    "# Parameters\n",
    "params = {'dim': (128,128),\n",
    "          'batch_size': 32,\n",
    "          'n_channels': 3,\n",
    "          'shuffle': True}\n",
    "\n",
    "\n",
    "# Generators\n",
    "training_generator = DataGenerator(trainImagesPathsX, trainY, **{'dim': (128,128),\n",
    "          'batch_size': 32,\n",
    "          'n_channels': 3,\n",
    "          'shuffle': True})\n",
    "validation_generator = DataGenerator(testImagesPathsX, testY, **{'dim': (128,128),\n",
    "          'batch_size': 32,\n",
    "          'n_channels': 3,\n",
    "          'shuffle': False})\n"
   ]
  },
  {
   "cell_type": "code",
   "execution_count": 263,
   "metadata": {
    "scrolled": true
   },
   "outputs": [
    {
     "name": "stdout",
     "output_type": "stream",
     "text": [
      "_________________________________________________________________\n",
      "Layer (type)                 Output Shape              Param #   \n",
      "=================================================================\n",
      "input_27 (InputLayer)        (None, 128, 128, 3)       0         \n",
      "_________________________________________________________________\n",
      "conv2d_3 (Conv2D)            (None, 128, 128, 16)      448       \n",
      "_________________________________________________________________\n",
      "activation_5 (Activation)    (None, 128, 128, 16)      0         \n",
      "_________________________________________________________________\n",
      "batch_normalization_v1_4 (Ba (None, 128, 128, 16)      64        \n",
      "_________________________________________________________________\n",
      "max_pooling2d_3 (MaxPooling2 (None, 64, 64, 16)        0         \n",
      "_________________________________________________________________\n",
      "conv2d_4 (Conv2D)            (None, 64, 64, 32)        4640      \n",
      "_________________________________________________________________\n",
      "activation_6 (Activation)    (None, 64, 64, 32)        0         \n",
      "_________________________________________________________________\n",
      "batch_normalization_v1_5 (Ba (None, 64, 64, 32)        128       \n",
      "_________________________________________________________________\n",
      "max_pooling2d_4 (MaxPooling2 (None, 32, 32, 32)        0         \n",
      "_________________________________________________________________\n",
      "conv2d_5 (Conv2D)            (None, 32, 32, 64)        18496     \n",
      "_________________________________________________________________\n",
      "activation_7 (Activation)    (None, 32, 32, 64)        0         \n",
      "_________________________________________________________________\n",
      "batch_normalization_v1_6 (Ba (None, 32, 32, 64)        256       \n",
      "_________________________________________________________________\n",
      "max_pooling2d_5 (MaxPooling2 (None, 16, 16, 64)        0         \n",
      "_________________________________________________________________\n",
      "flatten_1 (Flatten)          (None, 16384)             0         \n",
      "_________________________________________________________________\n",
      "dense_51 (Dense)             (None, 16)                262160    \n",
      "_________________________________________________________________\n",
      "activation_8 (Activation)    (None, 16)                0         \n",
      "_________________________________________________________________\n",
      "batch_normalization_v1_7 (Ba (None, 16)                64        \n",
      "_________________________________________________________________\n",
      "dropout_25 (Dropout)         (None, 16)                0         \n",
      "_________________________________________________________________\n",
      "dense_52 (Dense)             (None, 4)                 68        \n",
      "_________________________________________________________________\n",
      "activation_9 (Activation)    (None, 4)                 0         \n",
      "_________________________________________________________________\n",
      "dense_53 (Dense)             (None, 3)                 15        \n",
      "=================================================================\n",
      "Total params: 286,339\n",
      "Trainable params: 286,083\n",
      "Non-trainable params: 256\n",
      "_________________________________________________________________\n"
     ]
    }
   ],
   "source": [
    "model = create_cnn(128,128,3, regress=True)\n",
    "# opt = Adam(lr=1e-3, decay=1e-3 / 200)\n",
    "model.compile(optimizer='rmsprop', loss='mse')\n",
    "model.summary()"
   ]
  },
  {
   "cell_type": "code",
   "execution_count": 254,
   "metadata": {
    "scrolled": true
   },
   "outputs": [
    {
     "name": "stdout",
     "output_type": "stream",
     "text": [
      "_________________________________________________________________\n",
      "Layer (type)                 Output Shape              Param #   \n",
      "=================================================================\n",
      "input_25 (InputLayer)        (None, 128, 128, 3)       0         \n",
      "_________________________________________________________________\n",
      "block1_conv1 (Conv2D)        (None, 128, 128, 64)      1792      \n",
      "_________________________________________________________________\n",
      "block1_conv2 (Conv2D)        (None, 128, 128, 64)      36928     \n",
      "_________________________________________________________________\n",
      "block1_pool (MaxPooling2D)   (None, 64, 64, 64)        0         \n",
      "_________________________________________________________________\n",
      "block2_conv1 (Conv2D)        (None, 64, 64, 128)       73856     \n",
      "_________________________________________________________________\n",
      "block2_conv2 (Conv2D)        (None, 64, 64, 128)       147584    \n",
      "_________________________________________________________________\n",
      "block2_pool (MaxPooling2D)   (None, 32, 32, 128)       0         \n",
      "_________________________________________________________________\n",
      "block3_conv1 (Conv2D)        (None, 32, 32, 256)       295168    \n",
      "_________________________________________________________________\n",
      "block3_conv2 (Conv2D)        (None, 32, 32, 256)       590080    \n",
      "_________________________________________________________________\n",
      "block3_conv3 (Conv2D)        (None, 32, 32, 256)       590080    \n",
      "_________________________________________________________________\n",
      "block3_pool (MaxPooling2D)   (None, 16, 16, 256)       0         \n",
      "_________________________________________________________________\n",
      "block4_conv1 (Conv2D)        (None, 16, 16, 512)       1180160   \n",
      "_________________________________________________________________\n",
      "block4_conv2 (Conv2D)        (None, 16, 16, 512)       2359808   \n",
      "_________________________________________________________________\n",
      "block4_conv3 (Conv2D)        (None, 16, 16, 512)       2359808   \n",
      "_________________________________________________________________\n",
      "block4_pool (MaxPooling2D)   (None, 8, 8, 512)         0         \n",
      "_________________________________________________________________\n",
      "block5_conv1 (Conv2D)        (None, 8, 8, 512)         2359808   \n",
      "_________________________________________________________________\n",
      "block5_conv2 (Conv2D)        (None, 8, 8, 512)         2359808   \n",
      "_________________________________________________________________\n",
      "block5_conv3 (Conv2D)        (None, 8, 8, 512)         2359808   \n",
      "_________________________________________________________________\n",
      "block5_pool (MaxPooling2D)   (None, 4, 4, 512)         0         \n",
      "_________________________________________________________________\n",
      "global_average_pooling2d_23  (None, 512)               0         \n",
      "_________________________________________________________________\n",
      "dense_46 (Dense)             (None, 512)               262656    \n",
      "_________________________________________________________________\n",
      "dropout_23 (Dropout)         (None, 512)               0         \n",
      "_________________________________________________________________\n",
      "dense_47 (Dense)             (None, 3)                 1539      \n",
      "=================================================================\n",
      "Total params: 14,978,883\n",
      "Trainable params: 7,343,619\n",
      "Non-trainable params: 7,635,264\n",
      "_________________________________________________________________\n",
      "None\n"
     ]
    }
   ],
   "source": [
    "model_vgg = compile_vgg16()"
   ]
  },
  {
   "cell_type": "code",
   "execution_count": 264,
   "metadata": {},
   "outputs": [
    {
     "data": {
      "text/plain": [
       "array([[-26.148296 ,  -4.8162503,  17.241724 ],\n",
       "       [-25.66692  , -24.48687  ,   8.376469 ],\n",
       "       [-12.662346 ,  -6.2667856,   7.0942693],\n",
       "       [-29.477507 , -20.233852 ,  11.437674 ],\n",
       "       [-34.582775 , -20.347532 ,  15.602876 ],\n",
       "       [-15.8005905,  -9.890051 ,   6.895297 ],\n",
       "       [-26.563358 , -20.925613 ,   9.3574915]], dtype=float32)"
      ]
     },
     "execution_count": 264,
     "metadata": {},
     "output_type": "execute_result"
    }
   ],
   "source": [
    "model.predict(testImagesX[3:10])"
   ]
  },
  {
   "cell_type": "code",
   "execution_count": 265,
   "metadata": {
    "scrolled": true
   },
   "outputs": [
    {
     "name": "stdout",
     "output_type": "stream",
     "text": [
      "Epoch 1/30\n",
      "960/960 [==============================] - 26s 27ms/step - loss: 0.1769\n",
      "Epoch 2/30\n",
      "960/960 [==============================] - 22s 23ms/step - loss: 0.0887\n",
      "Epoch 3/30\n",
      "960/960 [==============================] - 22s 23ms/step - loss: 0.0892\n",
      "Epoch 4/30\n",
      "960/960 [==============================] - 22s 23ms/step - loss: 0.0877\n",
      "Epoch 5/30\n",
      "960/960 [==============================] - 23s 24ms/step - loss: 0.0847\n",
      "Epoch 6/30\n",
      "960/960 [==============================] - 22s 23ms/step - loss: 0.0810\n",
      "Epoch 7/30\n",
      "960/960 [==============================] - 22s 23ms/step - loss: 0.0764\n",
      "Epoch 8/30\n",
      "960/960 [==============================] - 22s 23ms/step - loss: 0.0704\n",
      "Epoch 9/30\n",
      "960/960 [==============================] - 22s 23ms/step - loss: 0.0711\n",
      "Epoch 10/30\n",
      "960/960 [==============================] - 22s 23ms/step - loss: 0.0688\n",
      "Epoch 11/30\n",
      "960/960 [==============================] - 22s 23ms/step - loss: 0.0653\n",
      "Epoch 12/30\n",
      "960/960 [==============================] - 22s 23ms/step - loss: 0.0619\n",
      "Epoch 13/30\n",
      "960/960 [==============================] - 22s 23ms/step - loss: 0.0616\n",
      "Epoch 14/30\n",
      "960/960 [==============================] - 22s 23ms/step - loss: 0.0598\n",
      "Epoch 15/30\n",
      "960/960 [==============================] - 22s 23ms/step - loss: 0.0567\n",
      "Epoch 16/30\n",
      "960/960 [==============================] - 22s 23ms/step - loss: 0.0553\n",
      "Epoch 17/30\n",
      "960/960 [==============================] - 22s 23ms/step - loss: 0.0536\n",
      "Epoch 18/30\n",
      "960/960 [==============================] - 22s 23ms/step - loss: 0.0546\n",
      "Epoch 19/30\n",
      "960/960 [==============================] - 22s 23ms/step - loss: 0.0539\n",
      "Epoch 20/30\n",
      "960/960 [==============================] - 22s 23ms/step - loss: 0.0519\n",
      "Epoch 21/30\n",
      "960/960 [==============================] - 22s 23ms/step - loss: 0.0520\n",
      "Epoch 22/30\n",
      "960/960 [==============================] - 22s 23ms/step - loss: 0.0532\n",
      "Epoch 23/30\n",
      "960/960 [==============================] - 23s 24ms/step - loss: 0.0505\n",
      "Epoch 24/30\n",
      "960/960 [==============================] - 22s 23ms/step - loss: 0.0476\n",
      "Epoch 25/30\n",
      "960/960 [==============================] - 23s 23ms/step - loss: 0.0496\n",
      "Epoch 26/30\n",
      "960/960 [==============================] - 23s 23ms/step - loss: 0.0502\n",
      "Epoch 27/30\n",
      "960/960 [==============================] - 23s 24ms/step - loss: 0.0473\n",
      "Epoch 28/30\n",
      "960/960 [==============================] - 23s 23ms/step - loss: 0.0468\n",
      "Epoch 29/30\n",
      "960/960 [==============================] - 23s 24ms/step - loss: 0.0509\n",
      "Epoch 30/30\n",
      "960/960 [==============================] - 23s 23ms/step - loss: 0.0466\n"
     ]
    },
    {
     "data": {
      "text/plain": [
       "<tensorflow.python.keras.callbacks.History at 0x7f344c28e208>"
      ]
     },
     "execution_count": 265,
     "metadata": {},
     "output_type": "execute_result"
    }
   ],
   "source": [
    "model.fit_generator(\n",
    "        train_gen2,\n",
    "         steps_per_epoch=960,\n",
    "    \n",
    "        epochs=30)\n",
    "#         validation_data=test_ge n)"
   ]
  },
  {
   "cell_type": "code",
   "execution_count": 272,
   "metadata": {},
   "outputs": [],
   "source": [
    "p = model.predict(testImagesX)"
   ]
  },
  {
   "cell_type": "code",
   "execution_count": 273,
   "metadata": {},
   "outputs": [
    {
     "name": "stdout",
     "output_type": "stream",
     "text": [
      "The Mean Square Error is:  1.3003014911419688\n"
     ]
    }
   ],
   "source": [
    "calc_mse(testY, p)"
   ]
  },
  {
   "cell_type": "code",
   "execution_count": 225,
   "metadata": {},
   "outputs": [],
   "source": [
    "split = train_test_split(image_paths, lables, test_size=0.25, random_state=42)\n",
    "(trainImagesPathsX,testImagesPathsX, trainY, testY ) = split"
   ]
  },
  {
   "cell_type": "code",
   "execution_count": 229,
   "metadata": {},
   "outputs": [],
   "source": [
    "labels_dict = {}\n",
    "for p, l in zip(image_paths, lables):\n",
    "    labels_dict[p] = l"
   ]
  },
  {
   "cell_type": "code",
   "execution_count": 248,
   "metadata": {},
   "outputs": [],
   "source": [
    "def preprocess_input(image):\n",
    "    return image\n",
    "\n",
    "# from skimage.io import imread\n",
    "def get_input(path):\n",
    "    \n",
    "#     img = imread(path)\n",
    "    image = cv2.imread(path)\n",
    "    image = cv2.cvtColor(image, cv2.COLOR_BGR2RGB)\n",
    "\n",
    "    \n",
    "    return(image)\n",
    "\n",
    "\n",
    "def get_output(path,label_file=None):\n",
    "    \n",
    "#     img_id = path.split('/')[-1].split('.')[0]\n",
    "#     img_id = np.int64(img_id)\n",
    "#     labels = label_file.loc[img_id].values\n",
    "    return label_file[path]\n",
    "    \n",
    "    return(labels)\n",
    "def image_generator(files, labels, batch_size = 64):\n",
    "    while True:\n",
    "        # Select files (paths/indices) for the batch\n",
    "        batch_paths = np.random.choice(a = files, \n",
    "                                     size = batch_size)\n",
    "        batch_input = []\n",
    "        batch_output = [] \n",
    "\n",
    "        # Read in each input, perform preprocessing and get labels\n",
    "        for input_path in batch_paths:\n",
    "            input = get_input(input_path )\n",
    "            output = get_output(input_path, label_file=labels )\n",
    "\n",
    "            input = preprocess_input(image=input)\n",
    "            batch_input += [ input ]\n",
    "            batch_output += [ output ]\n",
    "        # Return a tuple of (input,output) to feed the network\n",
    "        batch_x = np.array( batch_input )\n",
    "        batch_y = np.array( batch_output )\n",
    "\n",
    "        yield( batch_x, batch_y )"
   ]
  },
  {
   "cell_type": "code",
   "execution_count": 249,
   "metadata": {},
   "outputs": [],
   "source": [
    "train_gen2 = image_generator(trainImagesPathsX, labels_dict, 32)"
   ]
  },
  {
   "cell_type": "code",
   "execution_count": 279,
   "metadata": {},
   "outputs": [
    {
     "data": {
      "text/html": [
       "<div>\n",
       "<style scoped>\n",
       "    .dataframe tbody tr th:only-of-type {\n",
       "        vertical-align: middle;\n",
       "    }\n",
       "\n",
       "    .dataframe tbody tr th {\n",
       "        vertical-align: top;\n",
       "    }\n",
       "\n",
       "    .dataframe thead th {\n",
       "        text-align: right;\n",
       "    }\n",
       "</style>\n",
       "<table border=\"1\" class=\"dataframe\">\n",
       "  <thead>\n",
       "    <tr style=\"text-align: right;\">\n",
       "      <th></th>\n",
       "      <th>file name</th>\n",
       "      <th>rx</th>\n",
       "      <th>ry</th>\n",
       "      <th>rz</th>\n",
       "      <th>tx</th>\n",
       "      <th>ty</th>\n",
       "      <th>tz</th>\n",
       "    </tr>\n",
       "  </thead>\n",
       "  <tbody>\n",
       "    <tr>\n",
       "      <th>0</th>\n",
       "      <td>image_03219.png</td>\n",
       "      <td>0.232823</td>\n",
       "      <td>0.258984</td>\n",
       "      <td>0.179867</td>\n",
       "      <td>53.709269</td>\n",
       "      <td>76.402880</td>\n",
       "      <td>2496.058176</td>\n",
       "    </tr>\n",
       "    <tr>\n",
       "      <th>1</th>\n",
       "      <td>image_00402.png</td>\n",
       "      <td>-0.119785</td>\n",
       "      <td>0.362839</td>\n",
       "      <td>-0.062090</td>\n",
       "      <td>137.927724</td>\n",
       "      <td>115.523209</td>\n",
       "      <td>2427.485141</td>\n",
       "    </tr>\n",
       "    <tr>\n",
       "      <th>2</th>\n",
       "      <td>image_04501.png</td>\n",
       "      <td>0.107773</td>\n",
       "      <td>-0.038309</td>\n",
       "      <td>0.116286</td>\n",
       "      <td>148.894921</td>\n",
       "      <td>113.838309</td>\n",
       "      <td>2138.816636</td>\n",
       "    </tr>\n",
       "    <tr>\n",
       "      <th>3</th>\n",
       "      <td>image_08929.png</td>\n",
       "      <td>0.184916</td>\n",
       "      <td>-0.129779</td>\n",
       "      <td>0.049919</td>\n",
       "      <td>169.859404</td>\n",
       "      <td>74.267703</td>\n",
       "      <td>2098.792519</td>\n",
       "    </tr>\n",
       "    <tr>\n",
       "      <th>4</th>\n",
       "      <td>image_07866.png</td>\n",
       "      <td>0.151122</td>\n",
       "      <td>-0.300772</td>\n",
       "      <td>0.015359</td>\n",
       "      <td>66.115997</td>\n",
       "      <td>40.895412</td>\n",
       "      <td>2718.224083</td>\n",
       "    </tr>\n",
       "    <tr>\n",
       "      <th>...</th>\n",
       "      <td>...</td>\n",
       "      <td>...</td>\n",
       "      <td>...</td>\n",
       "      <td>...</td>\n",
       "      <td>...</td>\n",
       "      <td>...</td>\n",
       "      <td>...</td>\n",
       "    </tr>\n",
       "    <tr>\n",
       "      <th>95</th>\n",
       "      <td>image_02170.png</td>\n",
       "      <td>-0.213852</td>\n",
       "      <td>0.042669</td>\n",
       "      <td>0.231739</td>\n",
       "      <td>166.217478</td>\n",
       "      <td>41.252032</td>\n",
       "      <td>1710.019103</td>\n",
       "    </tr>\n",
       "    <tr>\n",
       "      <th>96</th>\n",
       "      <td>image_09896.png</td>\n",
       "      <td>0.194637</td>\n",
       "      <td>0.221584</td>\n",
       "      <td>-0.152009</td>\n",
       "      <td>116.124727</td>\n",
       "      <td>34.273149</td>\n",
       "      <td>2501.398260</td>\n",
       "    </tr>\n",
       "    <tr>\n",
       "      <th>97</th>\n",
       "      <td>image_02063.png</td>\n",
       "      <td>0.252662</td>\n",
       "      <td>0.055673</td>\n",
       "      <td>-0.146309</td>\n",
       "      <td>7.138096</td>\n",
       "      <td>27.443552</td>\n",
       "      <td>2463.320832</td>\n",
       "    </tr>\n",
       "    <tr>\n",
       "      <th>98</th>\n",
       "      <td>image_09568.png</td>\n",
       "      <td>0.088536</td>\n",
       "      <td>0.295496</td>\n",
       "      <td>0.001080</td>\n",
       "      <td>84.767566</td>\n",
       "      <td>102.915104</td>\n",
       "      <td>2971.355504</td>\n",
       "    </tr>\n",
       "    <tr>\n",
       "      <th>99</th>\n",
       "      <td>image_07051.png</td>\n",
       "      <td>0.079864</td>\n",
       "      <td>-0.015929</td>\n",
       "      <td>-0.184441</td>\n",
       "      <td>-7.090944</td>\n",
       "      <td>29.756848</td>\n",
       "      <td>3368.709264</td>\n",
       "    </tr>\n",
       "  </tbody>\n",
       "</table>\n",
       "<p>100 rows × 7 columns</p>\n",
       "</div>"
      ],
      "text/plain": [
       "          file name        rx        ry        rz          tx          ty  \\\n",
       "0   image_03219.png  0.232823  0.258984  0.179867   53.709269   76.402880   \n",
       "1   image_00402.png -0.119785  0.362839 -0.062090  137.927724  115.523209   \n",
       "2   image_04501.png  0.107773 -0.038309  0.116286  148.894921  113.838309   \n",
       "3   image_08929.png  0.184916 -0.129779  0.049919  169.859404   74.267703   \n",
       "4   image_07866.png  0.151122 -0.300772  0.015359   66.115997   40.895412   \n",
       "..              ...       ...       ...       ...         ...         ...   \n",
       "95  image_02170.png -0.213852  0.042669  0.231739  166.217478   41.252032   \n",
       "96  image_09896.png  0.194637  0.221584 -0.152009  116.124727   34.273149   \n",
       "97  image_02063.png  0.252662  0.055673 -0.146309    7.138096   27.443552   \n",
       "98  image_09568.png  0.088536  0.295496  0.001080   84.767566  102.915104   \n",
       "99  image_07051.png  0.079864 -0.015929 -0.184441   -7.090944   29.756848   \n",
       "\n",
       "             tz  \n",
       "0   2496.058176  \n",
       "1   2427.485141  \n",
       "2   2138.816636  \n",
       "3   2098.792519  \n",
       "4   2718.224083  \n",
       "..          ...  \n",
       "95  1710.019103  \n",
       "96  2501.398260  \n",
       "97  2463.320832  \n",
       "98  2971.355504  \n",
       "99  3368.709264  \n",
       "\n",
       "[100 rows x 7 columns]"
      ]
     },
     "execution_count": 279,
     "metadata": {},
     "output_type": "execute_result"
    }
   ],
   "source": [
    "pd_test"
   ]
  },
  {
   "cell_type": "code",
   "execution_count": 304,
   "metadata": {},
   "outputs": [],
   "source": [
    "pd_test = pd.read_csv(\"../valid_set/validation_set.csv\",index_col=0)"
   ]
  },
  {
   "cell_type": "code",
   "execution_count": 305,
   "metadata": {},
   "outputs": [],
   "source": [
    "pd_test[\"image_path\"] = \"/mnt/notebooks/Project - Pose/valid_set/images/\" + pd_test[\"file name\"]\n",
    "test_image_paths, test_labels = to_vec(pd_test)"
   ]
  },
  {
   "cell_type": "code",
   "execution_count": 318,
   "metadata": {},
   "outputs": [],
   "source": [
    "test_images = load_images(test_image_paths)[0]"
   ]
  },
  {
   "cell_type": "code",
   "execution_count": 325,
   "metadata": {},
   "outputs": [],
   "source": [
    "\n",
    "new_test_images = []\n",
    "for im in test_images:\n",
    "    new_test_images.append(cv2.resize(im, (128,128)))"
   ]
  },
  {
   "cell_type": "code",
   "execution_count": 337,
   "metadata": {},
   "outputs": [
    {
     "data": {
      "text/plain": [
       "'/mnt/notebooks/Project - Pose/valid_set/images/image_03219.png'"
      ]
     },
     "execution_count": 337,
     "metadata": {},
     "output_type": "execute_result"
    }
   ],
   "source": [
    "pd_test['image_path'][0]"
   ]
  },
  {
   "cell_type": "code",
   "execution_count": 339,
   "metadata": {},
   "outputs": [
    {
     "ename": "NameError",
     "evalue": "name 'imutils' is not defined",
     "output_type": "error",
     "traceback": [
      "\u001b[0;31m---------------------------------------------------------------------------\u001b[0m",
      "\u001b[0;31mNameError\u001b[0m                                 Traceback (most recent call last)",
      "\u001b[0;32m<ipython-input-339-156b94017f6e>\u001b[0m in \u001b[0;36m<module>\u001b[0;34m\u001b[0m\n\u001b[1;32m      1\u001b[0m \u001b[0mimage\u001b[0m \u001b[0;34m=\u001b[0m \u001b[0mcv2\u001b[0m\u001b[0;34m.\u001b[0m\u001b[0mimread\u001b[0m\u001b[0;34m(\u001b[0m\u001b[0;34m\"/mnt/notebooks/Project - Pose/valid_set/images/image_03219.png\"\u001b[0m\u001b[0;34m)\u001b[0m\u001b[0;34m\u001b[0m\u001b[0;34m\u001b[0m\u001b[0m\n\u001b[0;32m----> 2\u001b[0;31m \u001b[0mimage\u001b[0m \u001b[0;34m=\u001b[0m \u001b[0mimutils\u001b[0m\u001b[0;34m.\u001b[0m\u001b[0mresize\u001b[0m\u001b[0;34m(\u001b[0m\u001b[0mimage\u001b[0m\u001b[0;34m,\u001b[0m \u001b[0mwidth\u001b[0m\u001b[0;34m=\u001b[0m\u001b[0;36m128\u001b[0m\u001b[0;34m)\u001b[0m\u001b[0;34m\u001b[0m\u001b[0;34m\u001b[0m\u001b[0m\n\u001b[0m\u001b[1;32m      3\u001b[0m \u001b[0;34m\u001b[0m\u001b[0m\n\u001b[1;32m      4\u001b[0m \u001b[0mshow_image\u001b[0m\u001b[0;34m(\u001b[0m\u001b[0mimage\u001b[0m\u001b[0;34m)\u001b[0m\u001b[0;34m\u001b[0m\u001b[0;34m\u001b[0m\u001b[0m\n",
      "\u001b[0;31mNameError\u001b[0m: name 'imutils' is not defined"
     ]
    }
   ],
   "source": [
    "image = cv2.imread(\"/mnt/notebooks/Project - Pose/valid_set/images/image_03219.png\")\n",
    "image = imutils.resize(image, width=128)\n",
    "\n",
    "show_image(image)"
   ]
  },
  {
   "cell_type": "code",
   "execution_count": 330,
   "metadata": {},
   "outputs": [
    {
     "data": {
      "text/plain": [
       "(594, 128, 128)"
      ]
     },
     "execution_count": 330,
     "metadata": {},
     "output_type": "execute_result"
    }
   ],
   "source": [
    "np.array(new_test_images).shape"
   ]
  },
  {
   "cell_type": "code",
   "execution_count": 326,
   "metadata": {},
   "outputs": [
    {
     "name": "stdout",
     "output_type": "stream",
     "text": [
      "[INFO] predicting pose...\n"
     ]
    },
    {
     "ename": "ValueError",
     "evalue": "Error when checking input: expected input_27 to have 4 dimensions, but got array with shape (128, 128)",
     "output_type": "error",
     "traceback": [
      "\u001b[0;31m---------------------------------------------------------------------------\u001b[0m",
      "\u001b[0;31mValueError\u001b[0m                                Traceback (most recent call last)",
      "\u001b[0;32m<ipython-input-326-598f9343625a>\u001b[0m in \u001b[0;36m<module>\u001b[0;34m\u001b[0m\n\u001b[0;32m----> 1\u001b[0;31m \u001b[0mevaluate\u001b[0m\u001b[0;34m(\u001b[0m\u001b[0mmodel\u001b[0m\u001b[0;34m,\u001b[0m \u001b[0mnew_test_images\u001b[0m\u001b[0;34m,\u001b[0m \u001b[0mtest_labels\u001b[0m\u001b[0;34m)\u001b[0m\u001b[0;34m\u001b[0m\u001b[0;34m\u001b[0m\u001b[0m\n\u001b[0m",
      "\u001b[0;32m<ipython-input-123-15c413659740>\u001b[0m in \u001b[0;36mevaluate\u001b[0;34m(model, testImagesX, testY)\u001b[0m\n\u001b[1;32m      2\u001b[0m     \u001b[0;31m# make predictions on the testing data\u001b[0m\u001b[0;34m\u001b[0m\u001b[0;34m\u001b[0m\u001b[0;34m\u001b[0m\u001b[0m\n\u001b[1;32m      3\u001b[0m     \u001b[0mprint\u001b[0m\u001b[0;34m(\u001b[0m\u001b[0;34m\"[INFO] predicting pose...\"\u001b[0m\u001b[0;34m)\u001b[0m\u001b[0;34m\u001b[0m\u001b[0;34m\u001b[0m\u001b[0m\n\u001b[0;32m----> 4\u001b[0;31m     \u001b[0mpreds\u001b[0m \u001b[0;34m=\u001b[0m \u001b[0mmodel\u001b[0m\u001b[0;34m.\u001b[0m\u001b[0mpredict\u001b[0m\u001b[0;34m(\u001b[0m\u001b[0mtestImagesX\u001b[0m\u001b[0;34m)\u001b[0m\u001b[0;34m\u001b[0m\u001b[0;34m\u001b[0m\u001b[0m\n\u001b[0m\u001b[1;32m      5\u001b[0m     \u001b[0mprint\u001b[0m\u001b[0;34m(\u001b[0m\u001b[0mmodel\u001b[0m\u001b[0;34m.\u001b[0m\u001b[0mpredict\u001b[0m\u001b[0;34m(\u001b[0m\u001b[0mtestImagesX\u001b[0m\u001b[0;34m[\u001b[0m\u001b[0;34m:\u001b[0m\u001b[0;36m5\u001b[0m\u001b[0;34m]\u001b[0m\u001b[0;34m)\u001b[0m\u001b[0;34m)\u001b[0m\u001b[0;34m\u001b[0m\u001b[0;34m\u001b[0m\u001b[0m\n\u001b[1;32m      6\u001b[0m     \u001b[0;31m# # compute the mean and standard deviation of the absolute percentage\u001b[0m\u001b[0;34m\u001b[0m\u001b[0;34m\u001b[0m\u001b[0;34m\u001b[0m\u001b[0m\n",
      "\u001b[0;32m/opt/conda/lib/python3.6/site-packages/tensorflow/python/keras/engine/training.py\u001b[0m in \u001b[0;36mpredict\u001b[0;34m(self, x, batch_size, verbose, steps, max_queue_size, workers, use_multiprocessing)\u001b[0m\n\u001b[1;32m   1094\u001b[0m       \u001b[0;31m# batch size.\u001b[0m\u001b[0;34m\u001b[0m\u001b[0;34m\u001b[0m\u001b[0;34m\u001b[0m\u001b[0m\n\u001b[1;32m   1095\u001b[0m       x, _, _ = self._standardize_user_data(\n\u001b[0;32m-> 1096\u001b[0;31m           x, check_steps=True, steps_name='steps', steps=steps)\n\u001b[0m\u001b[1;32m   1097\u001b[0m \u001b[0;34m\u001b[0m\u001b[0m\n\u001b[1;32m   1098\u001b[0m     if (self.run_eagerly or (isinstance(x, iterator_ops.EagerIterator) and\n",
      "\u001b[0;32m/opt/conda/lib/python3.6/site-packages/tensorflow/python/keras/engine/training.py\u001b[0m in \u001b[0;36m_standardize_user_data\u001b[0;34m(self, x, y, sample_weight, class_weight, batch_size, check_steps, steps_name, steps, validation_split, shuffle)\u001b[0m\n\u001b[1;32m   2380\u001b[0m         \u001b[0mfeed_input_shapes\u001b[0m\u001b[0;34m,\u001b[0m\u001b[0;34m\u001b[0m\u001b[0;34m\u001b[0m\u001b[0m\n\u001b[1;32m   2381\u001b[0m         \u001b[0mcheck_batch_axis\u001b[0m\u001b[0;34m=\u001b[0m\u001b[0;32mFalse\u001b[0m\u001b[0;34m,\u001b[0m  \u001b[0;31m# Don't enforce the batch size.\u001b[0m\u001b[0;34m\u001b[0m\u001b[0;34m\u001b[0m\u001b[0m\n\u001b[0;32m-> 2382\u001b[0;31m         exception_prefix='input')\n\u001b[0m\u001b[1;32m   2383\u001b[0m \u001b[0;34m\u001b[0m\u001b[0m\n\u001b[1;32m   2384\u001b[0m     \u001b[0;32mif\u001b[0m \u001b[0my\u001b[0m \u001b[0;32mis\u001b[0m \u001b[0;32mnot\u001b[0m \u001b[0;32mNone\u001b[0m\u001b[0;34m:\u001b[0m\u001b[0;34m\u001b[0m\u001b[0;34m\u001b[0m\u001b[0m\n",
      "\u001b[0;32m/opt/conda/lib/python3.6/site-packages/tensorflow/python/keras/engine/training_utils.py\u001b[0m in \u001b[0;36mstandardize_input_data\u001b[0;34m(data, names, shapes, check_batch_axis, exception_prefix)\u001b[0m\n\u001b[1;32m    351\u001b[0m                            \u001b[0;34m': expected '\u001b[0m \u001b[0;34m+\u001b[0m \u001b[0mnames\u001b[0m\u001b[0;34m[\u001b[0m\u001b[0mi\u001b[0m\u001b[0;34m]\u001b[0m \u001b[0;34m+\u001b[0m \u001b[0;34m' to have '\u001b[0m \u001b[0;34m+\u001b[0m\u001b[0;34m\u001b[0m\u001b[0;34m\u001b[0m\u001b[0m\n\u001b[1;32m    352\u001b[0m                            \u001b[0mstr\u001b[0m\u001b[0;34m(\u001b[0m\u001b[0mlen\u001b[0m\u001b[0;34m(\u001b[0m\u001b[0mshape\u001b[0m\u001b[0;34m)\u001b[0m\u001b[0;34m)\u001b[0m \u001b[0;34m+\u001b[0m \u001b[0;34m' dimensions, but got array '\u001b[0m\u001b[0;34m\u001b[0m\u001b[0;34m\u001b[0m\u001b[0m\n\u001b[0;32m--> 353\u001b[0;31m                            'with shape ' + str(data_shape))\n\u001b[0m\u001b[1;32m    354\u001b[0m         \u001b[0;32mif\u001b[0m \u001b[0;32mnot\u001b[0m \u001b[0mcheck_batch_axis\u001b[0m\u001b[0;34m:\u001b[0m\u001b[0;34m\u001b[0m\u001b[0;34m\u001b[0m\u001b[0m\n\u001b[1;32m    355\u001b[0m           \u001b[0mdata_shape\u001b[0m \u001b[0;34m=\u001b[0m \u001b[0mdata_shape\u001b[0m\u001b[0;34m[\u001b[0m\u001b[0;36m1\u001b[0m\u001b[0;34m:\u001b[0m\u001b[0;34m]\u001b[0m\u001b[0;34m\u001b[0m\u001b[0;34m\u001b[0m\u001b[0m\n",
      "\u001b[0;31mValueError\u001b[0m: Error when checking input: expected input_27 to have 4 dimensions, but got array with shape (128, 128)"
     ]
    }
   ],
   "source": [
    "evaluate(model, new_test_images, test_labels)"
   ]
  },
  {
   "cell_type": "code",
   "execution_count": null,
   "metadata": {},
   "outputs": [],
   "source": []
  }
 ],
 "metadata": {
  "kernelspec": {
   "display_name": "Python 3",
   "language": "python",
   "name": "python3"
  },
  "language_info": {
   "codemirror_mode": {
    "name": "ipython",
    "version": 3
   },
   "file_extension": ".py",
   "mimetype": "text/x-python",
   "name": "python",
   "nbconvert_exporter": "python",
   "pygments_lexer": "ipython3",
   "version": "3.6.9"
  }
 },
 "nbformat": 4,
 "nbformat_minor": 2
}
